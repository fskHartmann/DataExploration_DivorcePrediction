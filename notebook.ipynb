{
 "cells": [
  {
   "cell_type": "markdown",
   "metadata": {},
   "source": [
    "# Data Exploration Project - Divorce Prediction"
   ]
  },
  {
   "cell_type": "markdown",
   "metadata": {},
   "source": [
    "Felix Hartmann 1800156"
   ]
  },
  {
   "cell_type": "markdown",
   "metadata": {},
   "source": [
    "Dieses Datenexplorationsprojekt widmet sich der eingehenden Analyse eines Datensatzes, der Informationen über 170 Paare sowie deren entsprechende Divorce Predictors Scale-Variablen (DPS) auf der Grundlage der Gottman-Paartherapie enthält. Die Datensätze wurden durch persönliche Interviews von Paaren erfasst, die entweder bereits geschieden (divorce = 0) sind oder sich in einer glücklichen Ehe befinden (divorce = 1). Alle Antworten wurden auf einer 5-Punkte-Skala erfasst (0=Nie, 1=Selten, 2=Durchschnittlich, 3=Häufig, 4=Immer). Dieser Datensatz umfasst insgesamt 54 Fragen, die verschiedene Aspekte der Beziehung zwischen den Paaren erfassen.\n",
    "\n",
    "Als Beispiel für die Fragen in diesem Datensatz können die ersten beiden Fragen betrachtet werden:\n",
    "\n",
    "\"Wenn einer von uns sich entschuldigt, wenn unsere Diskussion sich verschlechtert, endet die Diskussion.\"\n",
    "\"Ich weiß, dass wir unsere Unterschiede ignorieren können, auch wenn es manchmal schwierig wird.\"\n",
    "\n",
    "Das Hauptziel dieses Projekts besteht darin, durch die Analyse dieser Daten einen tieferen Einblick in die Dynamik von Beziehungen zu gewinnen. Dabei soll nicht nur darauf geachtet werden, Auffälligkeiten oder Muster zu erkennen, sondern auch zu bewerten, welche Fragen besonders aussagekräftig sind und welche weniger relevant erscheinen. Zusätzlich ist es das Ziel, potenzielle Vorhersagemodelle für Trennungen zu entwickeln, die auf den gesammelten Daten basieren."
   ]
  },
  {
   "cell_type": "code",
   "execution_count": 226,
   "metadata": {},
   "outputs": [],
   "source": [
    "from sklearn.datasets import load_iris\n",
    "from sklearn.metrics import classification_report\n",
    "from sklearn.metrics import RocCurveDisplay\n",
    "from sklearn.metrics import roc_auc_score\n",
    "from sklearn.model_selection import cross_val_score\n",
    "from sklearn.model_selection import train_test_split\n",
    "from sklearn import tree\n",
    "from sklearn.linear_model import LogisticRegression\n",
    "from sklearn.naive_bayes import GaussianNB\n",
    "from sklearn.preprocessing import LabelBinarizer\n",
    "from sklearn.dummy import DummyClassifier\n",
    "import pandas as pd\n",
    "import seaborn as sns\n",
    "from IPython.display import Image\n",
    "import numpy as np\n",
    "import matplotlib.pyplot as plt\n",
    "import numpy as np # linear algebra\n",
    "import pandas as pd # data processing, CSV file I/O (e.g. pd.read_csv)\n",
    "import os\n",
    "from sklearn import tree\n",
    "import matplotlib.pyplot as plt\n",
    "\n",
    "\n",
    "\n"
   ]
  },
  {
   "cell_type": "code",
   "execution_count": 227,
   "metadata": {},
   "outputs": [],
   "source": [
    "\n",
    "# Load the data\n",
    "file_path = \"data/divorce_data.csv\"\n",
    "df = pd.read_csv(file_path , delimiter=\";\")\n"
   ]
  },
  {
   "cell_type": "markdown",
   "metadata": {},
   "source": [
    "Die Datenqualität erscheint gut, da der Datensatz vollständig ist und keine fehlenden Werte in den 55 Spalten vorhanden sind. Alle Spalten enthalten numerische Werte auf einer klaren 5-Punkte-Skala, was die Analyse erleichtert. Insgesamt bietet der Datensatz eine solide Grundlage für die Analyse und Modellentwicklung zur Beziehungsdynamik und Vorhersage von Trennungen"
   ]
  },
  {
   "cell_type": "code",
   "execution_count": 228,
   "metadata": {},
   "outputs": [
    {
     "name": "stdout",
     "output_type": "stream",
     "text": [
      "<class 'pandas.core.frame.DataFrame'>\n",
      "RangeIndex: 170 entries, 0 to 169\n",
      "Data columns (total 55 columns):\n",
      " #   Column   Non-Null Count  Dtype\n",
      "---  ------   --------------  -----\n",
      " 0   Q1       170 non-null    int64\n",
      " 1   Q2       170 non-null    int64\n",
      " 2   Q3       170 non-null    int64\n",
      " 3   Q4       170 non-null    int64\n",
      " 4   Q5       170 non-null    int64\n",
      " 5   Q6       170 non-null    int64\n",
      " 6   Q7       170 non-null    int64\n",
      " 7   Q8       170 non-null    int64\n",
      " 8   Q9       170 non-null    int64\n",
      " 9   Q10      170 non-null    int64\n",
      " 10  Q11      170 non-null    int64\n",
      " 11  Q12      170 non-null    int64\n",
      " 12  Q13      170 non-null    int64\n",
      " 13  Q14      170 non-null    int64\n",
      " 14  Q15      170 non-null    int64\n",
      " 15  Q16      170 non-null    int64\n",
      " 16  Q17      170 non-null    int64\n",
      " 17  Q18      170 non-null    int64\n",
      " 18  Q19      170 non-null    int64\n",
      " 19  Q20      170 non-null    int64\n",
      " 20  Q21      170 non-null    int64\n",
      " 21  Q22      170 non-null    int64\n",
      " 22  Q23      170 non-null    int64\n",
      " 23  Q24      170 non-null    int64\n",
      " 24  Q25      170 non-null    int64\n",
      " 25  Q26      170 non-null    int64\n",
      " 26  Q27      170 non-null    int64\n",
      " 27  Q28      170 non-null    int64\n",
      " 28  Q29      170 non-null    int64\n",
      " 29  Q30      170 non-null    int64\n",
      " 30  Q31      170 non-null    int64\n",
      " 31  Q32      170 non-null    int64\n",
      " 32  Q33      170 non-null    int64\n",
      " 33  Q34      170 non-null    int64\n",
      " 34  Q35      170 non-null    int64\n",
      " 35  Q36      170 non-null    int64\n",
      " 36  Q37      170 non-null    int64\n",
      " 37  Q38      170 non-null    int64\n",
      " 38  Q39      170 non-null    int64\n",
      " 39  Q40      170 non-null    int64\n",
      " 40  Q41      170 non-null    int64\n",
      " 41  Q42      170 non-null    int64\n",
      " 42  Q43      170 non-null    int64\n",
      " 43  Q44      170 non-null    int64\n",
      " 44  Q45      170 non-null    int64\n",
      " 45  Q46      170 non-null    int64\n",
      " 46  Q47      170 non-null    int64\n",
      " 47  Q48      170 non-null    int64\n",
      " 48  Q49      170 non-null    int64\n",
      " 49  Q50      170 non-null    int64\n",
      " 50  Q51      170 non-null    int64\n",
      " 51  Q52      170 non-null    int64\n",
      " 52  Q53      170 non-null    int64\n",
      " 53  Q54      170 non-null    int64\n",
      " 54  Divorce  170 non-null    int64\n",
      "dtypes: int64(55)\n",
      "memory usage: 73.2 KB\n"
     ]
    }
   ],
   "source": [
    "# Inspect the data\n",
    "df.info()"
   ]
  },
  {
   "cell_type": "code",
   "execution_count": 229,
   "metadata": {},
   "outputs": [
    {
     "data": {
      "text/html": [
       "<div>\n",
       "<style scoped>\n",
       "    .dataframe tbody tr th:only-of-type {\n",
       "        vertical-align: middle;\n",
       "    }\n",
       "\n",
       "    .dataframe tbody tr th {\n",
       "        vertical-align: top;\n",
       "    }\n",
       "\n",
       "    .dataframe thead th {\n",
       "        text-align: right;\n",
       "    }\n",
       "</style>\n",
       "<table border=\"1\" class=\"dataframe\">\n",
       "  <thead>\n",
       "    <tr style=\"text-align: right;\">\n",
       "      <th></th>\n",
       "      <th>Q1</th>\n",
       "      <th>Q2</th>\n",
       "      <th>Q3</th>\n",
       "      <th>Q4</th>\n",
       "      <th>Q5</th>\n",
       "      <th>Q6</th>\n",
       "      <th>Q7</th>\n",
       "      <th>Q8</th>\n",
       "      <th>Q9</th>\n",
       "      <th>Q10</th>\n",
       "      <th>...</th>\n",
       "      <th>Q46</th>\n",
       "      <th>Q47</th>\n",
       "      <th>Q48</th>\n",
       "      <th>Q49</th>\n",
       "      <th>Q50</th>\n",
       "      <th>Q51</th>\n",
       "      <th>Q52</th>\n",
       "      <th>Q53</th>\n",
       "      <th>Q54</th>\n",
       "      <th>Divorce</th>\n",
       "    </tr>\n",
       "  </thead>\n",
       "  <tbody>\n",
       "    <tr>\n",
       "      <th>count</th>\n",
       "      <td>170.000000</td>\n",
       "      <td>170.000000</td>\n",
       "      <td>170.000000</td>\n",
       "      <td>170.000000</td>\n",
       "      <td>170.000000</td>\n",
       "      <td>170.000000</td>\n",
       "      <td>170.000000</td>\n",
       "      <td>170.000000</td>\n",
       "      <td>170.000000</td>\n",
       "      <td>170.000000</td>\n",
       "      <td>...</td>\n",
       "      <td>170.000000</td>\n",
       "      <td>170.000000</td>\n",
       "      <td>170.000000</td>\n",
       "      <td>170.000000</td>\n",
       "      <td>170.000000</td>\n",
       "      <td>170.000000</td>\n",
       "      <td>170.000000</td>\n",
       "      <td>170.000000</td>\n",
       "      <td>170.000000</td>\n",
       "      <td>170.000000</td>\n",
       "    </tr>\n",
       "    <tr>\n",
       "      <th>mean</th>\n",
       "      <td>1.776471</td>\n",
       "      <td>1.652941</td>\n",
       "      <td>1.764706</td>\n",
       "      <td>1.482353</td>\n",
       "      <td>1.541176</td>\n",
       "      <td>0.747059</td>\n",
       "      <td>0.494118</td>\n",
       "      <td>1.452941</td>\n",
       "      <td>1.458824</td>\n",
       "      <td>1.576471</td>\n",
       "      <td>...</td>\n",
       "      <td>2.552941</td>\n",
       "      <td>2.270588</td>\n",
       "      <td>2.741176</td>\n",
       "      <td>2.382353</td>\n",
       "      <td>2.429412</td>\n",
       "      <td>2.476471</td>\n",
       "      <td>2.517647</td>\n",
       "      <td>2.241176</td>\n",
       "      <td>2.011765</td>\n",
       "      <td>0.494118</td>\n",
       "    </tr>\n",
       "    <tr>\n",
       "      <th>std</th>\n",
       "      <td>1.627257</td>\n",
       "      <td>1.468654</td>\n",
       "      <td>1.415444</td>\n",
       "      <td>1.504327</td>\n",
       "      <td>1.632169</td>\n",
       "      <td>0.904046</td>\n",
       "      <td>0.898698</td>\n",
       "      <td>1.546371</td>\n",
       "      <td>1.557976</td>\n",
       "      <td>1.421529</td>\n",
       "      <td>...</td>\n",
       "      <td>1.371786</td>\n",
       "      <td>1.586841</td>\n",
       "      <td>1.137348</td>\n",
       "      <td>1.511587</td>\n",
       "      <td>1.405090</td>\n",
       "      <td>1.260238</td>\n",
       "      <td>1.476537</td>\n",
       "      <td>1.505634</td>\n",
       "      <td>1.667611</td>\n",
       "      <td>0.501442</td>\n",
       "    </tr>\n",
       "    <tr>\n",
       "      <th>min</th>\n",
       "      <td>0.000000</td>\n",
       "      <td>0.000000</td>\n",
       "      <td>0.000000</td>\n",
       "      <td>0.000000</td>\n",
       "      <td>0.000000</td>\n",
       "      <td>0.000000</td>\n",
       "      <td>0.000000</td>\n",
       "      <td>0.000000</td>\n",
       "      <td>0.000000</td>\n",
       "      <td>0.000000</td>\n",
       "      <td>...</td>\n",
       "      <td>0.000000</td>\n",
       "      <td>0.000000</td>\n",
       "      <td>0.000000</td>\n",
       "      <td>0.000000</td>\n",
       "      <td>0.000000</td>\n",
       "      <td>0.000000</td>\n",
       "      <td>0.000000</td>\n",
       "      <td>0.000000</td>\n",
       "      <td>0.000000</td>\n",
       "      <td>0.000000</td>\n",
       "    </tr>\n",
       "    <tr>\n",
       "      <th>25%</th>\n",
       "      <td>0.000000</td>\n",
       "      <td>0.000000</td>\n",
       "      <td>0.000000</td>\n",
       "      <td>0.000000</td>\n",
       "      <td>0.000000</td>\n",
       "      <td>0.000000</td>\n",
       "      <td>0.000000</td>\n",
       "      <td>0.000000</td>\n",
       "      <td>0.000000</td>\n",
       "      <td>0.000000</td>\n",
       "      <td>...</td>\n",
       "      <td>2.000000</td>\n",
       "      <td>1.000000</td>\n",
       "      <td>2.000000</td>\n",
       "      <td>1.000000</td>\n",
       "      <td>1.000000</td>\n",
       "      <td>2.000000</td>\n",
       "      <td>1.000000</td>\n",
       "      <td>1.000000</td>\n",
       "      <td>0.000000</td>\n",
       "      <td>0.000000</td>\n",
       "    </tr>\n",
       "    <tr>\n",
       "      <th>50%</th>\n",
       "      <td>2.000000</td>\n",
       "      <td>2.000000</td>\n",
       "      <td>2.000000</td>\n",
       "      <td>1.000000</td>\n",
       "      <td>1.000000</td>\n",
       "      <td>0.000000</td>\n",
       "      <td>0.000000</td>\n",
       "      <td>1.000000</td>\n",
       "      <td>1.000000</td>\n",
       "      <td>2.000000</td>\n",
       "      <td>...</td>\n",
       "      <td>3.000000</td>\n",
       "      <td>2.000000</td>\n",
       "      <td>3.000000</td>\n",
       "      <td>3.000000</td>\n",
       "      <td>2.000000</td>\n",
       "      <td>3.000000</td>\n",
       "      <td>3.000000</td>\n",
       "      <td>2.000000</td>\n",
       "      <td>2.000000</td>\n",
       "      <td>0.000000</td>\n",
       "    </tr>\n",
       "    <tr>\n",
       "      <th>75%</th>\n",
       "      <td>3.000000</td>\n",
       "      <td>3.000000</td>\n",
       "      <td>3.000000</td>\n",
       "      <td>3.000000</td>\n",
       "      <td>3.000000</td>\n",
       "      <td>1.000000</td>\n",
       "      <td>1.000000</td>\n",
       "      <td>3.000000</td>\n",
       "      <td>3.000000</td>\n",
       "      <td>3.000000</td>\n",
       "      <td>...</td>\n",
       "      <td>4.000000</td>\n",
       "      <td>4.000000</td>\n",
       "      <td>4.000000</td>\n",
       "      <td>4.000000</td>\n",
       "      <td>4.000000</td>\n",
       "      <td>4.000000</td>\n",
       "      <td>4.000000</td>\n",
       "      <td>4.000000</td>\n",
       "      <td>4.000000</td>\n",
       "      <td>1.000000</td>\n",
       "    </tr>\n",
       "    <tr>\n",
       "      <th>max</th>\n",
       "      <td>4.000000</td>\n",
       "      <td>4.000000</td>\n",
       "      <td>4.000000</td>\n",
       "      <td>4.000000</td>\n",
       "      <td>4.000000</td>\n",
       "      <td>4.000000</td>\n",
       "      <td>4.000000</td>\n",
       "      <td>4.000000</td>\n",
       "      <td>4.000000</td>\n",
       "      <td>4.000000</td>\n",
       "      <td>...</td>\n",
       "      <td>4.000000</td>\n",
       "      <td>4.000000</td>\n",
       "      <td>4.000000</td>\n",
       "      <td>4.000000</td>\n",
       "      <td>4.000000</td>\n",
       "      <td>4.000000</td>\n",
       "      <td>4.000000</td>\n",
       "      <td>4.000000</td>\n",
       "      <td>4.000000</td>\n",
       "      <td>1.000000</td>\n",
       "    </tr>\n",
       "  </tbody>\n",
       "</table>\n",
       "<p>8 rows × 55 columns</p>\n",
       "</div>"
      ],
      "text/plain": [
       "               Q1          Q2          Q3          Q4          Q5          Q6  \\\n",
       "count  170.000000  170.000000  170.000000  170.000000  170.000000  170.000000   \n",
       "mean     1.776471    1.652941    1.764706    1.482353    1.541176    0.747059   \n",
       "std      1.627257    1.468654    1.415444    1.504327    1.632169    0.904046   \n",
       "min      0.000000    0.000000    0.000000    0.000000    0.000000    0.000000   \n",
       "25%      0.000000    0.000000    0.000000    0.000000    0.000000    0.000000   \n",
       "50%      2.000000    2.000000    2.000000    1.000000    1.000000    0.000000   \n",
       "75%      3.000000    3.000000    3.000000    3.000000    3.000000    1.000000   \n",
       "max      4.000000    4.000000    4.000000    4.000000    4.000000    4.000000   \n",
       "\n",
       "               Q7          Q8          Q9         Q10  ...         Q46  \\\n",
       "count  170.000000  170.000000  170.000000  170.000000  ...  170.000000   \n",
       "mean     0.494118    1.452941    1.458824    1.576471  ...    2.552941   \n",
       "std      0.898698    1.546371    1.557976    1.421529  ...    1.371786   \n",
       "min      0.000000    0.000000    0.000000    0.000000  ...    0.000000   \n",
       "25%      0.000000    0.000000    0.000000    0.000000  ...    2.000000   \n",
       "50%      0.000000    1.000000    1.000000    2.000000  ...    3.000000   \n",
       "75%      1.000000    3.000000    3.000000    3.000000  ...    4.000000   \n",
       "max      4.000000    4.000000    4.000000    4.000000  ...    4.000000   \n",
       "\n",
       "              Q47         Q48         Q49         Q50         Q51         Q52  \\\n",
       "count  170.000000  170.000000  170.000000  170.000000  170.000000  170.000000   \n",
       "mean     2.270588    2.741176    2.382353    2.429412    2.476471    2.517647   \n",
       "std      1.586841    1.137348    1.511587    1.405090    1.260238    1.476537   \n",
       "min      0.000000    0.000000    0.000000    0.000000    0.000000    0.000000   \n",
       "25%      1.000000    2.000000    1.000000    1.000000    2.000000    1.000000   \n",
       "50%      2.000000    3.000000    3.000000    2.000000    3.000000    3.000000   \n",
       "75%      4.000000    4.000000    4.000000    4.000000    4.000000    4.000000   \n",
       "max      4.000000    4.000000    4.000000    4.000000    4.000000    4.000000   \n",
       "\n",
       "              Q53         Q54     Divorce  \n",
       "count  170.000000  170.000000  170.000000  \n",
       "mean     2.241176    2.011765    0.494118  \n",
       "std      1.505634    1.667611    0.501442  \n",
       "min      0.000000    0.000000    0.000000  \n",
       "25%      1.000000    0.000000    0.000000  \n",
       "50%      2.000000    2.000000    0.000000  \n",
       "75%      4.000000    4.000000    1.000000  \n",
       "max      4.000000    4.000000    1.000000  \n",
       "\n",
       "[8 rows x 55 columns]"
      ]
     },
     "execution_count": 229,
     "metadata": {},
     "output_type": "execute_result"
    }
   ],
   "source": [
    "df.describe()"
   ]
  },
  {
   "cell_type": "markdown",
   "metadata": {},
   "source": [
    "# Aufteilung der Daten in getrennt und glücklich verheiratet\n",
    "\n",
    "Die Daten sind etwa zur Hälfte zwischen getrennten und glücklich verheirateten Paaren getrennt. Dies ist hilfreich, da es das  Risiko von Verzerrungen in den Analysen und Modellierungen reduziert. In diesem Fall kann also auf Resampling-Methoden und gewichtete Metriken verzichtet werden. \n",
    "\n",
    "# Metriken \n",
    "\n",
    "Kontext wie der Paartherapie, in dem die Divorce Prediction verwendet werden könnte, ist es entscheidend, sowohl Präzision als auch Rückruf angemessen zu berücksichtigen.\n",
    "\n",
    "Präzision ist wichtig, weil fälschlicherweise ein Problem in der Ehe vorherzusagen, potenziell zu unnötiger Angst oder Spannung zwischen den Partnern führen kann. Wenn das Modell fälschlicherweise eine Trennung vorhersagt, wenn in Wirklichkeit keine droht, könnten die Partner unnötig besorgt sein oder sogar einen Konflikt auslösen.\n",
    "\n",
    "Rückruf ist ebenso wichtig, da es entscheidend ist, kein Problem in der Ehe zu übersehen, das tatsächlich vorhanden ist. Wenn das Modell es versäumt, eine potenzielle Trennung vorherzusagen, könnte dies bedeuten, dass das Paar nicht die notwendige Unterstützung erhält, um ihre Beziehung zu verbessern oder zu erhalten. Dies könnte letztendlich zu einer unerwarteten Trennung führen, die vermieden hätte werden können, wenn das Problem rechtzeitig erkannt worden wäre.\n",
    "\n",
    "Deshalb ist es in einem solchen Kontext wichtig, einen Ausgleich zwischen Präzision und Rückruf zu finden, um sicherzustellen, dass das Modell sowohl keine falschen Alarme auslöst als auch keine wirklichen Probleme in der Beziehung übersieht. Der F1-Score, der das Gleichgewicht zwischen Präzision und Rückruf herstellt, kann daher eine geeignete Metrik sein, um die Leistung des Modells angemessen zu bewerten.\n",
    "\n",
    "Da die Daten etwa zur Hälfte in getrennt und glücklich verheiratet sind, gibt auch die Genauigkeit ein gutes Maß für die Leistung eines Classifiers an. "
   ]
  },
  {
   "cell_type": "code",
   "execution_count": 230,
   "metadata": {},
   "outputs": [
    {
     "data": {
      "text/plain": [
       "Divorce\n",
       "0    86\n",
       "1    84\n",
       "Name: count, dtype: int64"
      ]
     },
     "execution_count": 230,
     "metadata": {},
     "output_type": "execute_result"
    }
   ],
   "source": [
    "# Verteilung von Geschieden zu nicht geschieden \n",
    "df['Divorce'].value_counts()\n"
   ]
  },
  {
   "cell_type": "code",
   "execution_count": 231,
   "metadata": {},
   "outputs": [
    {
     "data": {
      "image/png": "[encoded data removed]",
      "text/plain": [
       "<Figure size 1000x600 with 1 Axes>"
      ]
     },
     "metadata": {},
     "output_type": "display_data"
    }
   ],
   "source": [
    "# Mittelwerte aller Spalten:\n",
    "\n",
    "# Mittelwerte aller Spalten berechnen\n",
    "mittelwerte = df.mean()\n",
    "\n",
    "# Barchart erstellen\n",
    "plt.figure(figsize=(10, 6))\n",
    "mittelwerte.plot(kind='bar', color='skyblue')\n",
    "plt.title('Mittelwerte aller Spalten')\n",
    "plt.xlabel('Spalten')\n",
    "plt.ylabel('Mittelwert')\n",
    "plt.xticks(rotation=45, ha='right')\n",
    "plt.tight_layout()\n",
    "plt.show()"
   ]
  },
  {
   "cell_type": "markdown",
   "metadata": {},
   "source": []
  },
  {
   "cell_type": "code",
   "execution_count": 232,
   "metadata": {},
   "outputs": [
    {
     "name": "stdout",
     "output_type": "stream",
     "text": [
      "Q1         1.776471\n",
      "Q2         1.652941\n",
      "Q3         1.764706\n",
      "Q4         1.482353\n",
      "Q5         1.541176\n",
      "Q6         0.747059\n",
      "Q7         0.494118\n",
      "Q8         1.452941\n",
      "Q9         1.458824\n",
      "Q10        1.576471\n",
      "Q11        1.688235\n",
      "Q12        1.652941\n",
      "Q13        1.835294\n",
      "Q14        1.570588\n",
      "Q15        1.570588\n",
      "Q16        1.476471\n",
      "Q17        1.652941\n",
      "Q18        1.517647\n",
      "Q19        1.641176\n",
      "Q20        1.458824\n",
      "Q21        1.388235\n",
      "Q22        1.247059\n",
      "Q23        1.411765\n",
      "Q24        1.511765\n",
      "Q25        1.629412\n",
      "Q26        1.488235\n",
      "Q27        1.400000\n",
      "Q28        1.305882\n",
      "Q29        1.494118\n",
      "Q30        1.494118\n",
      "Q31        2.123529\n",
      "Q32        2.058824\n",
      "Q33        1.805882\n",
      "Q34        1.900000\n",
      "Q35        1.670588\n",
      "Q36        1.605882\n",
      "Q37        2.088235\n",
      "Q38        1.858824\n",
      "Q39        2.088235\n",
      "Q40        1.870588\n",
      "Q41        1.994118\n",
      "Q42        2.158824\n",
      "Q43        2.705882\n",
      "Q44        1.941176\n",
      "Q45        2.458824\n",
      "Q46        2.552941\n",
      "Q47        2.270588\n",
      "Q48        2.741176\n",
      "Q49        2.382353\n",
      "Q50        2.429412\n",
      "Q51        2.476471\n",
      "Q52        2.517647\n",
      "Q53        2.241176\n",
      "Q54        2.011765\n",
      "Divorce    0.494118\n",
      "dtype: float64\n"
     ]
    }
   ],
   "source": [
    "print(mittelwerte)"
   ]
  },
  {
   "cell_type": "code",
   "execution_count": 233,
   "metadata": {},
   "outputs": [
    {
     "name": "stdout",
     "output_type": "stream",
     "text": [
      "<bound method NDFrame.head of      Q1  Q2  Q3  Q4  Q5  Q6  Q7  Q8  Q9  Q10  ...  Q46  Q47  Q48  Q49  Q50  \\\n",
      "0     2   2   4   1   0   0   0   0   0    0  ...    2    1    3    3    3   \n",
      "1     4   4   4   4   4   0   0   4   4    4  ...    2    2    3    4    4   \n",
      "2     2   2   2   2   1   3   2   1   1    2  ...    3    2    3    1    1   \n",
      "3     3   2   3   2   3   3   3   3   3    3  ...    2    2    3    3    3   \n",
      "4     2   2   1   1   1   1   0   0   0    0  ...    2    1    2    3    2   \n",
      "..   ..  ..  ..  ..  ..  ..  ..  ..  ..  ...  ...  ...  ...  ...  ...  ...   \n",
      "165   0   0   0   0   0   0   0   0   0    0  ...    1    0    4    1    1   \n",
      "166   0   0   0   0   0   0   0   0   0    0  ...    4    1    2    2    2   \n",
      "167   1   1   0   0   0   0   0   0   0    1  ...    3    0    2    0    1   \n",
      "168   0   0   0   0   0   0   0   0   0    0  ...    3    3    2    2    3   \n",
      "169   0   0   0   0   0   0   0   1   0    0  ...    3    4    4    0    1   \n",
      "\n",
      "     Q51  Q52  Q53  Q54  Divorce  \n",
      "0      2    3    2    1        1  \n",
      "1      4    4    2    2        1  \n",
      "2      1    2    2    2        1  \n",
      "3      3    2    2    2        1  \n",
      "4      2    2    1    0        1  \n",
      "..   ...  ...  ...  ...      ...  \n",
      "165    4    2    2    2        0  \n",
      "166    2    3    2    2        0  \n",
      "167    1    3    0    0        0  \n",
      "168    2    4    3    1        0  \n",
      "169    3    3    3    1        0  \n",
      "\n",
      "[170 rows x 55 columns]>\n"
     ]
    }
   ],
   "source": [
    "print(df.head)"
   ]
  },
  {
   "cell_type": "markdown",
   "metadata": {},
   "source": [
    "# Ausreißer\n",
    "\n",
    "Die Datenanalyse zeigt, dass kener der Teilnehmer besondere Auffälligkeiten aufweist. Um dies genauer zu quantifizieren, wurde für alle Antworten (von 0 bis 4) der Mittelwert berechnet. Für jeden der 170 Teilnehmer wurde dann die Abweichung seiner Antworten vom Mittelwert berechnet. Hierzu wurde zunächst eine neue DataFrame erstellt, in der für jede Zelle die Abweichung vom Mittelwert der entsprechenden Spalte berechnet und gespeichert wurde. Anschließend wurden die Beträge der Abweichungen für jede Zeile summiert und in einer neuen Spalte zusammengefasst. Durch Sortieren der Zeilen nach der Summe der Abweichungen in absteigender Reihenfolge konnten die stärksten Abweichungen identifiziert werden. Diese Ergebnisse wurden dann grafisch dargestellt, wobei die Summe der Abweichungen für die ersten 20 Zeilen in Form eines Balkendiagramms visualisiert wurde. Da hier keiner der Balken besonders auffällt bzw. besonders stark abweicht, ist davon auszugehen, dass die Antworten der Befragten valide sind. "
   ]
  },
  {
   "cell_type": "code",
   "execution_count": 234,
   "metadata": {},
   "outputs": [
    {
     "name": "stdout",
     "output_type": "stream",
     "text": [
      "10    109.652941\n",
      "11    109.652941\n",
      "69    104.088235\n",
      "12    100.664706\n",
      "13    100.664706\n",
      "         ...    \n",
      "3      49.970588\n",
      "4      49.441176\n",
      "6      47.782353\n",
      "9      45.241176\n",
      "2      45.017647\n",
      "Name: sum, Length: 170, dtype: float64\n"
     ]
    },
    {
     "data": {
      "image/png": "[encoded data removed]",
      "text/plain": [
       "<Figure size 1000x600 with 1 Axes>"
      ]
     },
     "metadata": {},
     "output_type": "display_data"
    }
   ],
   "source": [
    "# Berechne für alle Zelle die Abwechung vom Mittelwert der Spalte df.mean() und speichere das Ergebnis in einer neuen DataFrame df_diff\n",
    "df_diff = df - df.mean()\n",
    "#print(df_diff.head())\n",
    "# summiere den Betrag aller Abweichungen einer Zeile auf und speichere das Ergebnis in einer neuen Spalte df_diff['sum']\n",
    "df_diff['sum'] = df_diff.abs().sum(axis=1)\n",
    "#df_diff['sum'] = df_diff.sum(axis=1)\n",
    "# sortiere die Zeilen nach der Summe der Abweichungen in aufsteigender Reihenfolge\n",
    "df_diff = df_diff.sort_values(by='sum', ascending=False)\n",
    "print (df_diff['sum'])\n",
    "# plot the sum of the absolute differences\n",
    "# plot only the first 20 rows\n",
    "\n",
    "plt.figure(figsize=(10, 6))\n",
    "df_diff['sum'].head(20).plot(kind='bar', color='skyblue')\n",
    "plt.title('Summe der Abweichungen vom Mittelwert')\n",
    "plt.xlabel('Zeilen')\n",
    "plt.ylabel('Summe der Abweichungen')\n",
    "plt.xticks(rotation=45, ha='right')\n",
    "plt.tight_layout()\n",
    "plt.show()\n",
    "\n",
    "\n"
   ]
  },
  {
   "cell_type": "markdown",
   "metadata": {},
   "source": [
    "# genauere Ausreißerbetrachtung\n",
    "\n",
    "In einer genaueren Betrachtung wird jede Frage (Q1 bis Q54) durchlaufendie und die Abweichung der Antworten vom Mittelwert bertechnet. Wenn die Abweichung größer als das Zweifache der Standardabweichung ist, werden diese Antworten als Ausreißer betrachtet.\n",
    "\n",
    "Tatsächlich enthaltne bestimmte Fragen im Datensatz Ausreißer. Dies deutet darauf hin, dass es Teilnehmer gab, die sich signifikant von der durchschnittlichen Antwort abheben. Zum Beispiel wurden in Frage 6, Frage 7 und Frage 43 Ausreißer identifiziert, wobei die Antworten dieser Teilnehmer deutlich von der üblichen Verteilung abwichen. Dies könnte darauf hinweisen, dass bestimmte Teilnehmer besonders extreme oder ungewöhnliche Meinungen zu den entsprechenden Fragen hatten, was möglicherweise die Aussagekraft der Fragen bzw. der Features beeinträchtigt.\n",
    "\n",
    "Zwar fällt, wie eben erkannt, keiner der Teilnehmer besonders auf, stattdessen gibt es einige auffällige Fragen. \n",
    "\n",
    "Im Folgenden soll demnach besonders bei diesen Fragen beachtet werden, wie stark die Korrelation mit Tennung de Paare ist. Zusätzlich wäre es interessant gerade diese Fragen zur Klassifizierung eines Vorhersage-Modells zu benutzen und die Leistung dessen zu evaluieren.  "
   ]
  },
  {
   "cell_type": "code",
   "execution_count": 235,
   "metadata": {},
   "outputs": [
    {
     "name": "stdout",
     "output_type": "stream",
     "text": [
      "  Frage                                       Ausreißer\n",
      "0    Q6                                3, 3, 3, 4, 3, 4\n",
      "1    Q7                       3, 4, 4, 4, 4, 3, 3, 3, 4\n",
      "2   Q43  0, 0, 0, 0, 0, 0, 0, 0, 0, 0, 0, 0, 0, 0, 0, 0\n",
      "3   Q48                    0, 0, 0, 0, 0, 0, 0, 0, 0, 0\n"
     ]
    }
   ],
   "source": [
    "import pandas as pd\n",
    "\n",
    "outlier_data = []\n",
    "\n",
    "for i in range(1, 55):\n",
    "    q = df[f'Q{i}']\n",
    "    outliers = q[(q - q.mean()).abs() > 2 * q.std()]\n",
    "    if not outliers.empty:\n",
    "        outliers_str = ', '.join(str(outlier) for outlier in outliers)\n",
    "        outlier_data.append({'Frage': f'Q{i}', 'Ausreißer': outliers_str})\n",
    "\n",
    "outlier_df = pd.DataFrame(outlier_data)\n",
    "print(outlier_df)\n"
   ]
  },
  {
   "cell_type": "markdown",
   "metadata": {},
   "source": [
    "\n",
    "# Korrelationsanalyse\n",
    "\n",
    "Für die Korrelationsanalyse wird die Korrelation zwischen den verschiedenen Merkmalen im Datensatz betrachtet. Hierbei wird eine Heatmap verwendet, um die Korrelationsmatrix darzustellen. Die Werte werden farblich kodiert, wobei stärkere Korrelationen hervorgehoben werden.\n",
    "\n",
    "Tatsächlich ist in der Korrelationsmatrix zu erkennen, dass die Fragen 6, 7 und 43, bei denen Ausreißer identifiziert wurden, tendenziell eine geringere Korrelation zu den anderen Fragen im Datensatz sowie zum Label 'Divorce' aufweisen."
   ]
  },
  {
   "cell_type": "code",
   "execution_count": 236,
   "metadata": {},
   "outputs": [
    {
     "data": {
      "image/png": "[encoded data removed]",
      "text/plain": [
       "<Figure size 1000x800 with 2 Axes>"
      ]
     },
     "metadata": {},
     "output_type": "display_data"
    }
   ],
   "source": [
    "import seaborn as sns\n",
    "import matplotlib.pyplot as plt\n",
    "\n",
    "correlation = df.corr()\n",
    "plt.figure(figsize=(10, 8))\n",
    "sns.heatmap(correlation, annot=True, cmap='coolwarm', fmt=\".2f\", linewidths=.5)\n",
    "plt.title('Korrelationsmatrix')\n",
    "plt.show()\n"
   ]
  },
  {
   "cell_type": "markdown",
   "metadata": {},
   "source": [
    "Um die Korrelation der Fragen mit dem Label 'Divorce' besser zu erkennen wird eine sortierte Liste erstellt. Die mit Ausreißern belasteten Fragen 6, 7 und 43 sind mit sehr niedriger Korrelation zu erkennen. \n",
    "Besonders Positiv fallen die Fragen 40, 17 und 19 auf. \n",
    "\n",
    "Aus der Korrelation mit dem Label 'Divorce' könnte bereits eine Feature-Selection abgeleitet werden. Die besonders mit 'Divorce' korrelierenden Fragen bzw. Features könnten als Basis für eine Klassifikation dienen.  "
   ]
  },
  {
   "cell_type": "code",
   "execution_count": 237,
   "metadata": {},
   "outputs": [
    {
     "data": {
      "text/html": [
       "<style type=\"text/css\">\n",
       "</style>\n",
       "<table id=\"T_17979\">\n",
       "  <thead>\n",
       "    <tr>\n",
       "      <th class=\"blank level0\" >&nbsp;</th>\n",
       "      <th id=\"T_17979_level0_col0\" class=\"col_heading level0 col0\" >Divorce</th>\n",
       "    </tr>\n",
       "  </thead>\n",
       "  <tbody>\n",
       "    <tr>\n",
       "      <th id=\"T_17979_level0_row0\" class=\"row_heading level0 row0\" >Q6</th>\n",
       "      <td id=\"T_17979_row0_col0\" class=\"data row0 col0\" >0.42</td>\n",
       "    </tr>\n",
       "    <tr>\n",
       "      <th id=\"T_17979_level0_row1\" class=\"row_heading level0 row1\" >Q46</th>\n",
       "      <td id=\"T_17979_row1_col0\" class=\"data row1 col0\" >0.44</td>\n",
       "    </tr>\n",
       "    <tr>\n",
       "      <th id=\"T_17979_level0_row2\" class=\"row_heading level0 row2\" >Q7</th>\n",
       "      <td id=\"T_17979_row2_col0\" class=\"data row2 col0\" >0.54</td>\n",
       "    </tr>\n",
       "    <tr>\n",
       "      <th id=\"T_17979_level0_row3\" class=\"row_heading level0 row3\" >Q45</th>\n",
       "      <td id=\"T_17979_row3_col0\" class=\"data row3 col0\" >0.55</td>\n",
       "    </tr>\n",
       "    <tr>\n",
       "      <th id=\"T_17979_level0_row4\" class=\"row_heading level0 row4\" >Q43</th>\n",
       "      <td id=\"T_17979_row4_col0\" class=\"data row4 col0\" >0.57</td>\n",
       "    </tr>\n",
       "    <tr>\n",
       "      <th id=\"T_17979_level0_row5\" class=\"row_heading level0 row5\" >Q48</th>\n",
       "      <td id=\"T_17979_row5_col0\" class=\"data row5 col0\" >0.62</td>\n",
       "    </tr>\n",
       "    <tr>\n",
       "      <th id=\"T_17979_level0_row6\" class=\"row_heading level0 row6\" >Q52</th>\n",
       "      <td id=\"T_17979_row6_col0\" class=\"data row6 col0\" >0.65</td>\n",
       "    </tr>\n",
       "    <tr>\n",
       "      <th id=\"T_17979_level0_row7\" class=\"row_heading level0 row7\" >Q47</th>\n",
       "      <td id=\"T_17979_row7_col0\" class=\"data row7 col0\" >0.66</td>\n",
       "    </tr>\n",
       "    <tr>\n",
       "      <th id=\"T_17979_level0_row8\" class=\"row_heading level0 row8\" >Q51</th>\n",
       "      <td id=\"T_17979_row8_col0\" class=\"data row8 col0\" >0.69</td>\n",
       "    </tr>\n",
       "    <tr>\n",
       "      <th id=\"T_17979_level0_row9\" class=\"row_heading level0 row9\" >Q53</th>\n",
       "      <td id=\"T_17979_row9_col0\" class=\"data row9 col0\" >0.71</td>\n",
       "    </tr>\n",
       "    <tr>\n",
       "      <th id=\"T_17979_level0_row10\" class=\"row_heading level0 row10\" >Q42</th>\n",
       "      <td id=\"T_17979_row10_col0\" class=\"data row10 col0\" >0.74</td>\n",
       "    </tr>\n",
       "    <tr>\n",
       "      <th id=\"T_17979_level0_row11\" class=\"row_heading level0 row11\" >Q49</th>\n",
       "      <td id=\"T_17979_row11_col0\" class=\"data row11 col0\" >0.74</td>\n",
       "    </tr>\n",
       "    <tr>\n",
       "      <th id=\"T_17979_level0_row12\" class=\"row_heading level0 row12\" >Q50</th>\n",
       "      <td id=\"T_17979_row12_col0\" class=\"data row12 col0\" >0.76</td>\n",
       "    </tr>\n",
       "    <tr>\n",
       "      <th id=\"T_17979_level0_row13\" class=\"row_heading level0 row13\" >Q31</th>\n",
       "      <td id=\"T_17979_row13_col0\" class=\"data row13 col0\" >0.79</td>\n",
       "    </tr>\n",
       "    <tr>\n",
       "      <th id=\"T_17979_level0_row14\" class=\"row_heading level0 row14\" >Q3</th>\n",
       "      <td id=\"T_17979_row14_col0\" class=\"data row14 col0\" >0.81</td>\n",
       "    </tr>\n",
       "    <tr>\n",
       "      <th id=\"T_17979_level0_row15\" class=\"row_heading level0 row15\" >Q54</th>\n",
       "      <td id=\"T_17979_row15_col0\" class=\"data row15 col0\" >0.81</td>\n",
       "    </tr>\n",
       "    <tr>\n",
       "      <th id=\"T_17979_level0_row16\" class=\"row_heading level0 row16\" >Q4</th>\n",
       "      <td id=\"T_17979_row16_col0\" class=\"data row16 col0\" >0.82</td>\n",
       "    </tr>\n",
       "    <tr>\n",
       "      <th id=\"T_17979_level0_row17\" class=\"row_heading level0 row17\" >Q2</th>\n",
       "      <td id=\"T_17979_row17_col0\" class=\"data row17 col0\" >0.82</td>\n",
       "    </tr>\n",
       "    <tr>\n",
       "      <th id=\"T_17979_level0_row18\" class=\"row_heading level0 row18\" >Q22</th>\n",
       "      <td id=\"T_17979_row18_col0\" class=\"data row18 col0\" >0.83</td>\n",
       "    </tr>\n",
       "    <tr>\n",
       "      <th id=\"T_17979_level0_row19\" class=\"row_heading level0 row19\" >Q32</th>\n",
       "      <td id=\"T_17979_row19_col0\" class=\"data row19 col0\" >0.83</td>\n",
       "    </tr>\n",
       "    <tr>\n",
       "      <th id=\"T_17979_level0_row20\" class=\"row_heading level0 row20\" >Q10</th>\n",
       "      <td id=\"T_17979_row20_col0\" class=\"data row20 col0\" >0.83</td>\n",
       "    </tr>\n",
       "    <tr>\n",
       "      <th id=\"T_17979_level0_row21\" class=\"row_heading level0 row21\" >Q34</th>\n",
       "      <td id=\"T_17979_row21_col0\" class=\"data row21 col0\" >0.84</td>\n",
       "    </tr>\n",
       "    <tr>\n",
       "      <th id=\"T_17979_level0_row22\" class=\"row_heading level0 row22\" >Q23</th>\n",
       "      <td id=\"T_17979_row22_col0\" class=\"data row22 col0\" >0.84</td>\n",
       "    </tr>\n",
       "    <tr>\n",
       "      <th id=\"T_17979_level0_row23\" class=\"row_heading level0 row23\" >Q24</th>\n",
       "      <td id=\"T_17979_row23_col0\" class=\"data row23 col0\" >0.84</td>\n",
       "    </tr>\n",
       "    <tr>\n",
       "      <th id=\"T_17979_level0_row24\" class=\"row_heading level0 row24\" >Q13</th>\n",
       "      <td id=\"T_17979_row24_col0\" class=\"data row24 col0\" >0.84</td>\n",
       "    </tr>\n",
       "    <tr>\n",
       "      <th id=\"T_17979_level0_row25\" class=\"row_heading level0 row25\" >Q28</th>\n",
       "      <td id=\"T_17979_row25_col0\" class=\"data row25 col0\" >0.85</td>\n",
       "    </tr>\n",
       "    <tr>\n",
       "      <th id=\"T_17979_level0_row26\" class=\"row_heading level0 row26\" >Q44</th>\n",
       "      <td id=\"T_17979_row26_col0\" class=\"data row26 col0\" >0.85</td>\n",
       "    </tr>\n",
       "    <tr>\n",
       "      <th id=\"T_17979_level0_row27\" class=\"row_heading level0 row27\" >Q25</th>\n",
       "      <td id=\"T_17979_row27_col0\" class=\"data row27 col0\" >0.86</td>\n",
       "    </tr>\n",
       "    <tr>\n",
       "      <th id=\"T_17979_level0_row28\" class=\"row_heading level0 row28\" >Q1</th>\n",
       "      <td id=\"T_17979_row28_col0\" class=\"data row28 col0\" >0.86</td>\n",
       "    </tr>\n",
       "    <tr>\n",
       "      <th id=\"T_17979_level0_row29\" class=\"row_heading level0 row29\" >Q33</th>\n",
       "      <td id=\"T_17979_row29_col0\" class=\"data row29 col0\" >0.86</td>\n",
       "    </tr>\n",
       "    <tr>\n",
       "      <th id=\"T_17979_level0_row30\" class=\"row_heading level0 row30\" >Q35</th>\n",
       "      <td id=\"T_17979_row30_col0\" class=\"data row30 col0\" >0.86</td>\n",
       "    </tr>\n",
       "    <tr>\n",
       "      <th id=\"T_17979_level0_row31\" class=\"row_heading level0 row31\" >Q37</th>\n",
       "      <td id=\"T_17979_row31_col0\" class=\"data row31 col0\" >0.86</td>\n",
       "    </tr>\n",
       "    <tr>\n",
       "      <th id=\"T_17979_level0_row32\" class=\"row_heading level0 row32\" >Q14</th>\n",
       "      <td id=\"T_17979_row32_col0\" class=\"data row32 col0\" >0.86</td>\n",
       "    </tr>\n",
       "    <tr>\n",
       "      <th id=\"T_17979_level0_row33\" class=\"row_heading level0 row33\" >Q21</th>\n",
       "      <td id=\"T_17979_row33_col0\" class=\"data row33 col0\" >0.86</td>\n",
       "    </tr>\n",
       "    <tr>\n",
       "      <th id=\"T_17979_level0_row34\" class=\"row_heading level0 row34\" >Q12</th>\n",
       "      <td id=\"T_17979_row34_col0\" class=\"data row34 col0\" >0.87</td>\n",
       "    </tr>\n",
       "    <tr>\n",
       "      <th id=\"T_17979_level0_row35\" class=\"row_heading level0 row35\" >Q8</th>\n",
       "      <td id=\"T_17979_row35_col0\" class=\"data row35 col0\" >0.87</td>\n",
       "    </tr>\n",
       "    <tr>\n",
       "      <th id=\"T_17979_level0_row36\" class=\"row_heading level0 row36\" >Q27</th>\n",
       "      <td id=\"T_17979_row36_col0\" class=\"data row36 col0\" >0.87</td>\n",
       "    </tr>\n",
       "    <tr>\n",
       "      <th id=\"T_17979_level0_row37\" class=\"row_heading level0 row37\" >Q26</th>\n",
       "      <td id=\"T_17979_row37_col0\" class=\"data row37 col0\" >0.87</td>\n",
       "    </tr>\n",
       "    <tr>\n",
       "      <th id=\"T_17979_level0_row38\" class=\"row_heading level0 row38\" >Q30</th>\n",
       "      <td id=\"T_17979_row38_col0\" class=\"data row38 col0\" >0.87</td>\n",
       "    </tr>\n",
       "    <tr>\n",
       "      <th id=\"T_17979_level0_row39\" class=\"row_heading level0 row39\" >Q38</th>\n",
       "      <td id=\"T_17979_row39_col0\" class=\"data row39 col0\" >0.88</td>\n",
       "    </tr>\n",
       "    <tr>\n",
       "      <th id=\"T_17979_level0_row40\" class=\"row_heading level0 row40\" >Q16</th>\n",
       "      <td id=\"T_17979_row40_col0\" class=\"data row40 col0\" >0.89</td>\n",
       "    </tr>\n",
       "    <tr>\n",
       "      <th id=\"T_17979_level0_row41\" class=\"row_heading level0 row41\" >Q36</th>\n",
       "      <td id=\"T_17979_row41_col0\" class=\"data row41 col0\" >0.89</td>\n",
       "    </tr>\n",
       "    <tr>\n",
       "      <th id=\"T_17979_level0_row42\" class=\"row_heading level0 row42\" >Q29</th>\n",
       "      <td id=\"T_17979_row42_col0\" class=\"data row42 col0\" >0.89</td>\n",
       "    </tr>\n",
       "    <tr>\n",
       "      <th id=\"T_17979_level0_row43\" class=\"row_heading level0 row43\" >Q5</th>\n",
       "      <td id=\"T_17979_row43_col0\" class=\"data row43 col0\" >0.89</td>\n",
       "    </tr>\n",
       "    <tr>\n",
       "      <th id=\"T_17979_level0_row44\" class=\"row_heading level0 row44\" >Q41</th>\n",
       "      <td id=\"T_17979_row44_col0\" class=\"data row44 col0\" >0.89</td>\n",
       "    </tr>\n",
       "    <tr>\n",
       "      <th id=\"T_17979_level0_row45\" class=\"row_heading level0 row45\" >Q39</th>\n",
       "      <td id=\"T_17979_row45_col0\" class=\"data row45 col0\" >0.90</td>\n",
       "    </tr>\n",
       "    <tr>\n",
       "      <th id=\"T_17979_level0_row46\" class=\"row_heading level0 row46\" >Q15</th>\n",
       "      <td id=\"T_17979_row46_col0\" class=\"data row46 col0\" >0.90</td>\n",
       "    </tr>\n",
       "    <tr>\n",
       "      <th id=\"T_17979_level0_row47\" class=\"row_heading level0 row47\" >Q20</th>\n",
       "      <td id=\"T_17979_row47_col0\" class=\"data row47 col0\" >0.91</td>\n",
       "    </tr>\n",
       "    <tr>\n",
       "      <th id=\"T_17979_level0_row48\" class=\"row_heading level0 row48\" >Q9</th>\n",
       "      <td id=\"T_17979_row48_col0\" class=\"data row48 col0\" >0.91</td>\n",
       "    </tr>\n",
       "    <tr>\n",
       "      <th id=\"T_17979_level0_row49\" class=\"row_heading level0 row49\" >Q11</th>\n",
       "      <td id=\"T_17979_row49_col0\" class=\"data row49 col0\" >0.92</td>\n",
       "    </tr>\n",
       "    <tr>\n",
       "      <th id=\"T_17979_level0_row50\" class=\"row_heading level0 row50\" >Q18</th>\n",
       "      <td id=\"T_17979_row50_col0\" class=\"data row50 col0\" >0.92</td>\n",
       "    </tr>\n",
       "    <tr>\n",
       "      <th id=\"T_17979_level0_row51\" class=\"row_heading level0 row51\" >Q19</th>\n",
       "      <td id=\"T_17979_row51_col0\" class=\"data row51 col0\" >0.93</td>\n",
       "    </tr>\n",
       "    <tr>\n",
       "      <th id=\"T_17979_level0_row52\" class=\"row_heading level0 row52\" >Q17</th>\n",
       "      <td id=\"T_17979_row52_col0\" class=\"data row52 col0\" >0.93</td>\n",
       "    </tr>\n",
       "    <tr>\n",
       "      <th id=\"T_17979_level0_row53\" class=\"row_heading level0 row53\" >Q40</th>\n",
       "      <td id=\"T_17979_row53_col0\" class=\"data row53 col0\" >0.94</td>\n",
       "    </tr>\n",
       "    <tr>\n",
       "      <th id=\"T_17979_level0_row54\" class=\"row_heading level0 row54\" >Divorce</th>\n",
       "      <td id=\"T_17979_row54_col0\" class=\"data row54 col0\" >1.00</td>\n",
       "    </tr>\n",
       "  </tbody>\n",
       "</table>\n"
      ],
      "text/plain": [
       "<pandas.io.formats.style.Styler at 0x158331c50>"
      ]
     },
     "execution_count": 237,
     "metadata": {},
     "output_type": "execute_result"
    }
   ],
   "source": [
    "# correlation_with_divorce nach der Correlation sortieren\n",
    "#  Q6, Q46, Q7  und Q45 haben die niedrigste Korrelation mit der Scheidung\n",
    "# Wird das Modell schlecht wenn man mit diesen trainiert?\n",
    "correlation_with_divorce = df.corr()['Divorce']\n",
    "correlation_with_divorce = correlation_with_divorce.sort_values(ascending=True)\n",
    "\n",
    "correlation_table = pd.DataFrame(correlation_with_divorce)\n",
    "correlation_table.style.format('{:.2f}')\n",
    "\n",
    "\n",
    "\n"
   ]
  },
  {
   "cell_type": "markdown",
   "metadata": {},
   "source": [
    "# Feature Importance "
   ]
  },
  {
   "cell_type": "markdown",
   "metadata": {},
   "source": [
    "## Decision Tree Classifier\n",
    "\n",
    "Zur Feature Selection wird ein Decision tree Classifier auf den Datensatz angewendet. Dabei wird nicht in Test und Trainingsdaten aufgeteilt wie das zur Klassifizierung gemacht werden würde. Der Algorithmus teilt die Daten in drei Features, Q18, Q26 und Q40, das heißt der Baum hat die länge drei. Das Merkmal Q18 wird als besonders wichtig klassifiziert, dieses war bereits bei der Korrelationsanalyse positiv aufgefallen. Auch die Merkmale Q40 und Q26 sind weisen bei der Korrelationsanaylse mit dem Label 'Diovorce' eine hohe korrelation auf. Diese Ergebnisse scheinen demnach plausibel. Allderings ist die Auswahl von drei Features gering um damit eine Klassifikation durchzuführen. "
   ]
  },
  {
   "cell_type": "code",
   "execution_count": 238,
   "metadata": {},
   "outputs": [
    {
     "data": {
      "text/html": [
       "<style>#sk-container-id-14 {color: black;background-color: white;}#sk-container-id-14 pre{padding: 0;}#sk-container-id-14 div.sk-toggleable {background-color: white;}#sk-container-id-14 label.sk-toggleable__label {cursor: pointer;display: block;width: 100%;margin-bottom: 0;padding: 0.3em;box-sizing: border-box;text-align: center;}#sk-container-id-14 label.sk-toggleable__label-arrow:before {content: \"▸\";float: left;margin-right: 0.25em;color: #696969;}#sk-container-id-14 label.sk-toggleable__label-arrow:hover:before {color: black;}#sk-container-id-14 div.sk-estimator:hover label.sk-toggleable__label-arrow:before {color: black;}#sk-container-id-14 div.sk-toggleable__content {max-height: 0;max-width: 0;overflow: hidden;text-align: left;background-color: #f0f8ff;}#sk-container-id-14 div.sk-toggleable__content pre {margin: 0.2em;color: black;border-radius: 0.25em;background-color: #f0f8ff;}#sk-container-id-14 input.sk-toggleable__control:checked~div.sk-toggleable__content {max-height: 200px;max-width: 100%;overflow: auto;}#sk-container-id-14 input.sk-toggleable__control:checked~label.sk-toggleable__label-arrow:before {content: \"▾\";}#sk-container-id-14 div.sk-estimator input.sk-toggleable__control:checked~label.sk-toggleable__label {background-color: #d4ebff;}#sk-container-id-14 div.sk-label input.sk-toggleable__control:checked~label.sk-toggleable__label {background-color: #d4ebff;}#sk-container-id-14 input.sk-hidden--visually {border: 0;clip: rect(1px 1px 1px 1px);clip: rect(1px, 1px, 1px, 1px);height: 1px;margin: -1px;overflow: hidden;padding: 0;position: absolute;width: 1px;}#sk-container-id-14 div.sk-estimator {font-family: monospace;background-color: #f0f8ff;border: 1px dotted black;border-radius: 0.25em;box-sizing: border-box;margin-bottom: 0.5em;}#sk-container-id-14 div.sk-estimator:hover {background-color: #d4ebff;}#sk-container-id-14 div.sk-parallel-item::after {content: \"\";width: 100%;border-bottom: 1px solid gray;flex-grow: 1;}#sk-container-id-14 div.sk-label:hover label.sk-toggleable__label {background-color: #d4ebff;}#sk-container-id-14 div.sk-serial::before {content: \"\";position: absolute;border-left: 1px solid gray;box-sizing: border-box;top: 0;bottom: 0;left: 50%;z-index: 0;}#sk-container-id-14 div.sk-serial {display: flex;flex-direction: column;align-items: center;background-color: white;padding-right: 0.2em;padding-left: 0.2em;position: relative;}#sk-container-id-14 div.sk-item {position: relative;z-index: 1;}#sk-container-id-14 div.sk-parallel {display: flex;align-items: stretch;justify-content: center;background-color: white;position: relative;}#sk-container-id-14 div.sk-item::before, #sk-container-id-14 div.sk-parallel-item::before {content: \"\";position: absolute;border-left: 1px solid gray;box-sizing: border-box;top: 0;bottom: 0;left: 50%;z-index: -1;}#sk-container-id-14 div.sk-parallel-item {display: flex;flex-direction: column;z-index: 1;position: relative;background-color: white;}#sk-container-id-14 div.sk-parallel-item:first-child::after {align-self: flex-end;width: 50%;}#sk-container-id-14 div.sk-parallel-item:last-child::after {align-self: flex-start;width: 50%;}#sk-container-id-14 div.sk-parallel-item:only-child::after {width: 0;}#sk-container-id-14 div.sk-dashed-wrapped {border: 1px dashed gray;margin: 0 0.4em 0.5em 0.4em;box-sizing: border-box;padding-bottom: 0.4em;background-color: white;}#sk-container-id-14 div.sk-label label {font-family: monospace;font-weight: bold;display: inline-block;line-height: 1.2em;}#sk-container-id-14 div.sk-label-container {text-align: center;}#sk-container-id-14 div.sk-container {/* jupyter's `normalize.less` sets `[hidden] { display: none; }` but bootstrap.min.css set `[hidden] { display: none !important; }` so we also need the `!important` here to be able to override the default hidden behavior on the sphinx rendered scikit-learn.org. See: https://github.com/scikit-learn/scikit-learn/issues/21755 */display: inline-block !important;position: relative;}#sk-container-id-14 div.sk-text-repr-fallback {display: none;}</style><div id=\"sk-container-id-14\" class=\"sk-top-container\"><div class=\"sk-text-repr-fallback\"><pre>DecisionTreeClassifier(max_depth=5, random_state=42)</pre><b>In a Jupyter environment, please rerun this cell to show the HTML representation or trust the notebook. <br />On GitHub, the HTML representation is unable to render, please try loading this page with nbviewer.org.</b></div><div class=\"sk-container\" hidden><div class=\"sk-item\"><div class=\"sk-estimator sk-toggleable\"><input class=\"sk-toggleable__control sk-hidden--visually\" id=\"sk-estimator-id-14\" type=\"checkbox\" checked><label for=\"sk-estimator-id-14\" class=\"sk-toggleable__label sk-toggleable__label-arrow\">DecisionTreeClassifier</label><div class=\"sk-toggleable__content\"><pre>DecisionTreeClassifier(max_depth=5, random_state=42)</pre></div></div></div></div></div>"
      ],
      "text/plain": [
       "DecisionTreeClassifier(max_depth=5, random_state=42)"
      ]
     },
     "execution_count": 238,
     "metadata": {},
     "output_type": "execute_result"
    }
   ],
   "source": [
    "X = df.iloc[:, : -1]\n",
    "y = df['Divorce']\n",
    "\n",
    "clf1 = tree.DecisionTreeClassifier(max_depth=5, random_state=42, min_samples_split=2)\n",
    "clf1.fit(X, y)\n",
    "\n"
   ]
  },
  {
   "cell_type": "code",
   "execution_count": 239,
   "metadata": {},
   "outputs": [
    {
     "data": {
      "text/plain": [
       "array([0.        , 0.        , 0.        , 0.        , 0.        ,\n",
       "       0.        , 0.        , 0.        , 0.        , 0.        ,\n",
       "       0.        , 0.        , 0.        , 0.        , 0.        ,\n",
       "       0.        , 0.        , 0.9317817 , 0.        , 0.        ,\n",
       "       0.        , 0.        , 0.        , 0.        , 0.        ,\n",
       "       0.04495612, 0.        , 0.        , 0.        , 0.        ,\n",
       "       0.        , 0.        , 0.        , 0.        , 0.        ,\n",
       "       0.        , 0.        , 0.        , 0.        , 0.02326218,\n",
       "       0.        , 0.        , 0.        , 0.        , 0.        ,\n",
       "       0.        , 0.        , 0.        , 0.        , 0.        ,\n",
       "       0.        , 0.        , 0.        , 0.        ])"
      ]
     },
     "execution_count": 239,
     "metadata": {},
     "output_type": "execute_result"
    }
   ],
   "source": [
    "feature_importance = clf1.feature_importances_\n",
    "feature_importance\n",
    "#len(feature_importance)"
   ]
  },
  {
   "cell_type": "code",
   "execution_count": 240,
   "metadata": {},
   "outputs": [
    {
     "name": "stdout",
     "output_type": "stream",
     "text": [
      "Importance:  0.9317817014446228   Merkmal 18 : My spouse and I have similar ideas about how marriage should be.\n",
      "Importance:  0.04495612012078505   Merkmal 26 : I know my spouse's basic anxieties.\n",
      "Importance:  0.023262178434592173   Merkmal 40 : We're just starting a discussion before I know what's going on.\n",
      "Importance:  0.0   Merkmal 1 : If one of us apologizes when our discussion deteriorates, the discussion ends.\n",
      "Importance:  0.0   Merkmal 2 : I know we can ignore our differences, even if things get hard sometimes.\n",
      "Importance:  0.0   Merkmal 3 : When we need it, we can take our discussions with my spouse from the beginning and correct it.\n",
      "Importance:  0.0   Merkmal 4 : When I discuss with my spouse, to contact him will eventually work.\n",
      "Importance:  0.0   Merkmal 5 : The time I spent with my wife is special for us.\n",
      "Importance:  0.0   Merkmal 6 : We don't have time at home as partners.\n",
      "Importance:  0.0   Merkmal 7 : We are like two strangers who share the same environment at home rather than family.\n",
      "Importance:  0.0   Merkmal 8 : I enjoy our holidays with my wife.\n",
      "Importance:  0.0   Merkmal 9 : I enjoy traveling with my wife.\n",
      "Importance:  0.0   Merkmal 10 : Most of our goals are common to my spouse.\n",
      "Importance:  0.0   Merkmal 11 : I think that one day in the future, when I look back, I see that my spouse and I have been in harmony with each other.\n",
      "Importance:  0.0   Merkmal 12 : My spouse and I have similar values in terms of personal freedom.\n",
      "Importance:  0.0   Merkmal 13 : My spouse and I have similar sense of entertainment.\n",
      "Importance:  0.0   Merkmal 14 : Most of our goals for people (children, friends, etc.) are the same.\n",
      "Importance:  0.0   Merkmal 15 : Our dreams with my spouse are similar and harmonious.\n",
      "Importance:  0.0   Merkmal 16 : We're compatible with my spouse about what love should be.\n",
      "Importance:  0.0   Merkmal 17 : We share the same views about being happy in our life with my spouse.\n",
      "Importance:  0.0   Merkmal 19 : My spouse and I have similar ideas about how roles should be in marriage.\n",
      "Importance:  0.0   Merkmal 20 : My spouse and I have similar values in trust.\n",
      "Importance:  0.0   Merkmal 21 : I know exactly what my wife likes.\n",
      "Importance:  0.0   Merkmal 22 : I know how my spouse wants to be taken care of when she/he sick.\n",
      "Importance:  0.0   Merkmal 23 : I know my spouse's favorite food.\n",
      "Importance:  0.0   Merkmal 24 : I can tell you what kind of stress my spouse is facing in her/his life.\n",
      "Importance:  0.0   Merkmal 25 : I have knowledge of my spouse's inner world.\n",
      "Importance:  0.0   Merkmal 27 : I know what my spouse's current sources of stress are.\n",
      "Importance:  0.0   Merkmal 28 : I know my spouse's hopes and wishes.\n",
      "Importance:  0.0   Merkmal 29 : I know my spouse very well.\n",
      "Importance:  0.0   Merkmal 30 : I know my spouse's friends and their social relationships.\n",
      "Importance:  0.0   Merkmal 31 : I feel aggressive when I argue with my spouse.\n",
      "Importance:  0.0   Merkmal 32 : When discussing with my spouse, I usually use expressions such as ‘you always’ or ‘you never’.\n",
      "Importance:  0.0   Merkmal 33 : I can use negative statements about my spouse's personality during our discussions.\n",
      "Importance:  0.0   Merkmal 34 : I can use offensive expressions during our discussions.\n",
      "Importance:  0.0   Merkmal 35 : I can insult my spouse during our discussions.\n",
      "Importance:  0.0   Merkmal 36 : I can be humiliating when we discussions.\n",
      "Importance:  0.0   Merkmal 37 : My discussion with my spouse is not calm.\n",
      "Importance:  0.0   Merkmal 38 : I hate my spouse's way of open a subject.\n",
      "Importance:  0.0   Merkmal 39 : Our discussions often occur suddenly.\n",
      "Importance:  0.0   Merkmal 41 : When I talk to my spouse about something, my calm suddenly breaks.\n",
      "Importance:  0.0   Merkmal 42 : When I argue with my spouse, ı only go out and I don't say a word.\n",
      "Importance:  0.0   Merkmal 43 : I mostly stay silent to calm the environment a little bit.\n",
      "Importance:  0.0   Merkmal 44 : Sometimes I think it's good for me to leave home for a while.\n",
      "Importance:  0.0   Merkmal 45 : I'd rather stay silent than discuss with my spouse.\n",
      "Importance:  0.0   Merkmal 46 : Even if I'm right in the discussion, I stay silent to hurt my spouse.\n",
      "Importance:  0.0   Merkmal 47 : When I discuss with my spouse, I stay silent because I am afraid of not being able to control my anger.\n",
      "Importance:  0.0   Merkmal 48 : I feel right in our discussions.\n",
      "Importance:  0.0   Merkmal 49 : I have nothing to do with what I've been accused of.\n",
      "Importance:  0.0   Merkmal 50 : I'm not actually the one who's guilty about what I'm accused of.\n",
      "Importance:  0.0   Merkmal 51 : I'm not the one who's wrong about problems at home.\n",
      "Importance:  0.0   Merkmal 52 : I wouldn't hesitate to tell my spouse about her/his inadequacy.\n",
      "Importance:  0.0   Merkmal 53 : When I discuss, I remind my spouse of her/his inadequacy.\n",
      "Importance:  0.0   Merkmal 54 : I'm not afraid to tell my spouse about her/his incompetence.\n"
     ]
    }
   ],
   "source": [
    "import numpy as np\n",
    "\n",
    "# Erstelle ein Array von Indizes von 1 bis 54\n",
    "indices = np.arange(1, 55)\n",
    "\n",
    "# Sortiere die Indizes basierend auf der Wichtigkeit der Merkmale absteigend\n",
    "sorted_indices = sorted(indices, key=lambda x: feature_importance[x-1], reverse=True)\n",
    "\n",
    "# Dictionary, das die Indizes den Beschreibungen zuordnet\n",
    "merkmale = {\n",
    "    1: \"If one of us apologizes when our discussion deteriorates, the discussion ends.\",\n",
    "    2: \"I know we can ignore our differences, even if things get hard sometimes.\",\n",
    "    3: \"When we need it, we can take our discussions with my spouse from the beginning and correct it.\",\n",
    "    4: \"When I discuss with my spouse, to contact him will eventually work.\",\n",
    "    5: \"The time I spent with my wife is special for us.\",\n",
    "    6: \"We don't have time at home as partners.\",\n",
    "    7: \"We are like two strangers who share the same environment at home rather than family.\",\n",
    "    8: \"I enjoy our holidays with my wife.\",\n",
    "    9: \"I enjoy traveling with my wife.\",\n",
    "    10: \"Most of our goals are common to my spouse.\",\n",
    "    11: \"I think that one day in the future, when I look back, I see that my spouse and I have been in harmony with each other.\",\n",
    "    12: \"My spouse and I have similar values in terms of personal freedom.\",\n",
    "    13: \"My spouse and I have similar sense of entertainment.\",\n",
    "    14: \"Most of our goals for people (children, friends, etc.) are the same.\",\n",
    "    15: \"Our dreams with my spouse are similar and harmonious.\",\n",
    "    16: \"We're compatible with my spouse about what love should be.\",\n",
    "    17: \"We share the same views about being happy in our life with my spouse.\",\n",
    "    18: \"My spouse and I have similar ideas about how marriage should be.\",\n",
    "    19: \"My spouse and I have similar ideas about how roles should be in marriage.\",\n",
    "    20: \"My spouse and I have similar values in trust.\",\n",
    "    21: \"I know exactly what my wife likes.\",\n",
    "    22: \"I know how my spouse wants to be taken care of when she/he sick.\",\n",
    "    23: \"I know my spouse's favorite food.\",\n",
    "    24: \"I can tell you what kind of stress my spouse is facing in her/his life.\",\n",
    "    25: \"I have knowledge of my spouse's inner world.\",\n",
    "    26: \"I know my spouse's basic anxieties.\",\n",
    "    27: \"I know what my spouse's current sources of stress are.\",\n",
    "    28: \"I know my spouse's hopes and wishes.\",\n",
    "    29: \"I know my spouse very well.\",\n",
    "    30: \"I know my spouse's friends and their social relationships.\",\n",
    "    31: \"I feel aggressive when I argue with my spouse.\",\n",
    "    32: \"When discussing with my spouse, I usually use expressions such as ‘you always’ or ‘you never’.\",\n",
    "    33: \"I can use negative statements about my spouse's personality during our discussions.\",\n",
    "    34: \"I can use offensive expressions during our discussions.\",\n",
    "    35: \"I can insult my spouse during our discussions.\",\n",
    "    36: \"I can be humiliating when we discussions.\",\n",
    "    37: \"My discussion with my spouse is not calm.\",\n",
    "    38: \"I hate my spouse's way of open a subject.\",\n",
    "    39: \"Our discussions often occur suddenly.\",\n",
    "    40: \"We're just starting a discussion before I know what's going on.\",\n",
    "    41: \"When I talk to my spouse about something, my calm suddenly breaks.\",\n",
    "    42: \"When I argue with my spouse, ı only go out and I don't say a word.\",\n",
    "    43: \"I mostly stay silent to calm the environment a little bit.\",\n",
    "    44: \"Sometimes I think it's good for me to leave home for a while.\",\n",
    "    45: \"I'd rather stay silent than discuss with my spouse.\",\n",
    "    46: \"Even if I'm right in the discussion, I stay silent to hurt my spouse.\",\n",
    "    47: \"When I discuss with my spouse, I stay silent because I am afraid of not being able to control my anger.\",\n",
    "    48: \"I feel right in our discussions.\",\n",
    "    49: \"I have nothing to do with what I've been accused of.\",\n",
    "    50: \"I'm not actually the one who's guilty about what I'm accused of.\",\n",
    "    51: \"I'm not the one who's wrong about problems at home.\",\n",
    "    52: \"I wouldn't hesitate to tell my spouse about her/his inadequacy.\",\n",
    "    53: \"When I discuss, I remind my spouse of her/his inadequacy.\",\n",
    "    54: \"I'm not afraid to tell my spouse about her/his incompetence.\"\n",
    "}\n",
    "\n",
    "\n",
    "# Zeige die sortierten Merkmale mit ihren Beschreibungen an\n",
    "for i in sorted_indices:\n",
    "    print(\"Importance: \", feature_importance[i-1], \"  Merkmal\", i, \":\", merkmale[i])\n"
   ]
  },
  {
   "cell_type": "markdown",
   "metadata": {},
   "source": [
    "# Feature Importance - Random Forest Classifier"
   ]
  },
  {
   "cell_type": "markdown",
   "metadata": {},
   "source": [
    "Weil bei der Feature Selection mit dem Decision Tree Classifier nur drei wichtige Features erkannt wruden, wird zusätzlich ein Random Forest Classifier zur angewandt. Die Fragen werden nach Relevanz sortiert. Wieder sind Fragen Q18, Q26 und Q40 Favoriten, aber die Relevanz ist deutlcih stärker verteilt. Mit zehn der wichtigsten Features soll nun ein Classifier trainiert werden. "
   ]
  },
  {
   "cell_type": "code",
   "execution_count": 241,
   "metadata": {},
   "outputs": [
    {
     "data": {
      "text/html": [
       "<style>#sk-container-id-15 {color: black;background-color: white;}#sk-container-id-15 pre{padding: 0;}#sk-container-id-15 div.sk-toggleable {background-color: white;}#sk-container-id-15 label.sk-toggleable__label {cursor: pointer;display: block;width: 100%;margin-bottom: 0;padding: 0.3em;box-sizing: border-box;text-align: center;}#sk-container-id-15 label.sk-toggleable__label-arrow:before {content: \"▸\";float: left;margin-right: 0.25em;color: #696969;}#sk-container-id-15 label.sk-toggleable__label-arrow:hover:before {color: black;}#sk-container-id-15 div.sk-estimator:hover label.sk-toggleable__label-arrow:before {color: black;}#sk-container-id-15 div.sk-toggleable__content {max-height: 0;max-width: 0;overflow: hidden;text-align: left;background-color: #f0f8ff;}#sk-container-id-15 div.sk-toggleable__content pre {margin: 0.2em;color: black;border-radius: 0.25em;background-color: #f0f8ff;}#sk-container-id-15 input.sk-toggleable__control:checked~div.sk-toggleable__content {max-height: 200px;max-width: 100%;overflow: auto;}#sk-container-id-15 input.sk-toggleable__control:checked~label.sk-toggleable__label-arrow:before {content: \"▾\";}#sk-container-id-15 div.sk-estimator input.sk-toggleable__control:checked~label.sk-toggleable__label {background-color: #d4ebff;}#sk-container-id-15 div.sk-label input.sk-toggleable__control:checked~label.sk-toggleable__label {background-color: #d4ebff;}#sk-container-id-15 input.sk-hidden--visually {border: 0;clip: rect(1px 1px 1px 1px);clip: rect(1px, 1px, 1px, 1px);height: 1px;margin: -1px;overflow: hidden;padding: 0;position: absolute;width: 1px;}#sk-container-id-15 div.sk-estimator {font-family: monospace;background-color: #f0f8ff;border: 1px dotted black;border-radius: 0.25em;box-sizing: border-box;margin-bottom: 0.5em;}#sk-container-id-15 div.sk-estimator:hover {background-color: #d4ebff;}#sk-container-id-15 div.sk-parallel-item::after {content: \"\";width: 100%;border-bottom: 1px solid gray;flex-grow: 1;}#sk-container-id-15 div.sk-label:hover label.sk-toggleable__label {background-color: #d4ebff;}#sk-container-id-15 div.sk-serial::before {content: \"\";position: absolute;border-left: 1px solid gray;box-sizing: border-box;top: 0;bottom: 0;left: 50%;z-index: 0;}#sk-container-id-15 div.sk-serial {display: flex;flex-direction: column;align-items: center;background-color: white;padding-right: 0.2em;padding-left: 0.2em;position: relative;}#sk-container-id-15 div.sk-item {position: relative;z-index: 1;}#sk-container-id-15 div.sk-parallel {display: flex;align-items: stretch;justify-content: center;background-color: white;position: relative;}#sk-container-id-15 div.sk-item::before, #sk-container-id-15 div.sk-parallel-item::before {content: \"\";position: absolute;border-left: 1px solid gray;box-sizing: border-box;top: 0;bottom: 0;left: 50%;z-index: -1;}#sk-container-id-15 div.sk-parallel-item {display: flex;flex-direction: column;z-index: 1;position: relative;background-color: white;}#sk-container-id-15 div.sk-parallel-item:first-child::after {align-self: flex-end;width: 50%;}#sk-container-id-15 div.sk-parallel-item:last-child::after {align-self: flex-start;width: 50%;}#sk-container-id-15 div.sk-parallel-item:only-child::after {width: 0;}#sk-container-id-15 div.sk-dashed-wrapped {border: 1px dashed gray;margin: 0 0.4em 0.5em 0.4em;box-sizing: border-box;padding-bottom: 0.4em;background-color: white;}#sk-container-id-15 div.sk-label label {font-family: monospace;font-weight: bold;display: inline-block;line-height: 1.2em;}#sk-container-id-15 div.sk-label-container {text-align: center;}#sk-container-id-15 div.sk-container {/* jupyter's `normalize.less` sets `[hidden] { display: none; }` but bootstrap.min.css set `[hidden] { display: none !important; }` so we also need the `!important` here to be able to override the default hidden behavior on the sphinx rendered scikit-learn.org. See: https://github.com/scikit-learn/scikit-learn/issues/21755 */display: inline-block !important;position: relative;}#sk-container-id-15 div.sk-text-repr-fallback {display: none;}</style><div id=\"sk-container-id-15\" class=\"sk-top-container\"><div class=\"sk-text-repr-fallback\"><pre>RandomForestClassifier(random_state=42)</pre><b>In a Jupyter environment, please rerun this cell to show the HTML representation or trust the notebook. <br />On GitHub, the HTML representation is unable to render, please try loading this page with nbviewer.org.</b></div><div class=\"sk-container\" hidden><div class=\"sk-item\"><div class=\"sk-estimator sk-toggleable\"><input class=\"sk-toggleable__control sk-hidden--visually\" id=\"sk-estimator-id-15\" type=\"checkbox\" checked><label for=\"sk-estimator-id-15\" class=\"sk-toggleable__label sk-toggleable__label-arrow\">RandomForestClassifier</label><div class=\"sk-toggleable__content\"><pre>RandomForestClassifier(random_state=42)</pre></div></div></div></div></div>"
      ],
      "text/plain": [
       "RandomForestClassifier(random_state=42)"
      ]
     },
     "execution_count": 241,
     "metadata": {},
     "output_type": "execute_result"
    }
   ],
   "source": [
    "from sklearn.ensemble import RandomForestClassifier\n",
    "\n",
    "# Ein Random Forest mit 100 Bäumen und anderen Standardparametern erstellen\n",
    "rf_clf = RandomForestClassifier(n_estimators=100, random_state=42)\n",
    "rf_clf.fit(X, y)\n"
   ]
  },
  {
   "cell_type": "code",
   "execution_count": 242,
   "metadata": {},
   "outputs": [
    {
     "name": "stdout",
     "output_type": "stream",
     "text": [
      "  Merkmal 18 : My spouse and I have similar ideas about how marriage should be. Importance:  0.13592356611894443\n",
      "  Merkmal 40 : We're just starting a discussion before I know what's going on. Importance:  0.114338171992903\n",
      "  Merkmal 11 : I think that one day in the future, when I look back, I see that my spouse and I have been in harmony with each other. Importance:  0.09590573757078627\n",
      "  Merkmal 20 : My spouse and I have similar values in trust. Importance:  0.07614818618137914\n",
      "  Merkmal 26 : I know my spouse's basic anxieties. Importance:  0.06905668536845697\n",
      "  Merkmal 17 : We share the same views about being happy in our life with my spouse. Importance:  0.06839241555151182\n",
      "  Merkmal 19 : My spouse and I have similar ideas about how roles should be in marriage. Importance:  0.05739309678719063\n",
      "  Merkmal 16 : We're compatible with my spouse about what love should be. Importance:  0.03757304869779308\n",
      "  Merkmal 25 : I have knowledge of my spouse's inner world. Importance:  0.03671015150774252\n",
      "  Merkmal 9 : I enjoy traveling with my wife. Importance:  0.03414719816734552\n",
      "  Merkmal 15 : Our dreams with my spouse are similar and harmonious. Importance:  0.030779887978816693\n",
      "  Merkmal 28 : I know my spouse's hopes and wishes. Importance:  0.029639081740038258\n",
      "  Merkmal 36 : I can be humiliating when we discussions. Importance:  0.02895318327005608\n",
      "  Merkmal 14 : Most of our goals for people (children, friends, etc.) are the same. Importance:  0.02773743363545225\n",
      "  Merkmal 21 : I know exactly what my wife likes. Importance:  0.025752342476992752\n",
      "  Merkmal 12 : My spouse and I have similar values in terms of personal freedom. Importance:  0.019352036178370228\n",
      "  Merkmal 41 : When I talk to my spouse about something, my calm suddenly breaks. Importance:  0.01534270938014787\n",
      "  Merkmal 39 : Our discussions often occur suddenly. Importance:  0.012640997196749415\n",
      "  Merkmal 27 : I know what my spouse's current sources of stress are. Importance:  0.011580781679928142\n",
      "  Merkmal 30 : I know my spouse's friends and their social relationships. Importance:  0.011543235150487004\n",
      "  Merkmal 29 : I know my spouse very well. Importance:  0.010642673551173066\n",
      "  Merkmal 1 : If one of us apologizes when our discussion deteriorates, the discussion ends. Importance:  0.008993019838855415\n",
      "  Merkmal 37 : My discussion with my spouse is not calm. Importance:  0.008410926181596896\n",
      "  Merkmal 44 : Sometimes I think it's good for me to leave home for a while. Importance:  0.00757133405595032\n",
      "  Merkmal 3 : When we need it, we can take our discussions with my spouse from the beginning and correct it. Importance:  0.002543745232132804\n",
      "  Merkmal 8 : I enjoy our holidays with my wife. Importance:  0.0022370254269009895\n",
      "  Merkmal 4 : When I discuss with my spouse, to contact him will eventually work. Importance:  0.002004965069346178\n",
      "  Merkmal 2 : I know we can ignore our differences, even if things get hard sometimes. Importance:  0.0019260546288426383\n",
      "  Merkmal 31 : I feel aggressive when I argue with my spouse. Importance:  0.0014449490623388607\n",
      "  Merkmal 10 : Most of our goals are common to my spouse. Importance:  0.0012433133026982447\n",
      "  Merkmal 54 : I'm not afraid to tell my spouse about her/his incompetence. Importance:  0.0012372078670347757\n",
      "  Merkmal 52 : I wouldn't hesitate to tell my spouse about her/his inadequacy. Importance:  0.001114630136369267\n",
      "  Merkmal 53 : When I discuss, I remind my spouse of her/his inadequacy. Importance:  0.001072190413135338\n",
      "  Merkmal 24 : I can tell you what kind of stress my spouse is facing in her/his life. Importance:  0.000962152155516381\n",
      "  Merkmal 6 : We don't have time at home as partners. Importance:  0.0009598790387701578\n",
      "  Merkmal 5 : The time I spent with my wife is special for us. Importance:  0.0009031833762341652\n",
      "  Merkmal 33 : I can use negative statements about my spouse's personality during our discussions. Importance:  0.0008962544228322877\n",
      "  Merkmal 13 : My spouse and I have similar sense of entertainment. Importance:  0.0008346284653241141\n",
      "  Merkmal 32 : When discussing with my spouse, I usually use expressions such as ‘you always’ or ‘you never’. Importance:  0.000830767711357123\n",
      "  Merkmal 48 : I feel right in our discussions. Importance:  0.0008012899989012225\n",
      "  Merkmal 34 : I can use offensive expressions during our discussions. Importance:  0.0007473509974675903\n",
      "  Merkmal 46 : Even if I'm right in the discussion, I stay silent to hurt my spouse. Importance:  0.0007165828898698213\n",
      "  Merkmal 50 : I'm not actually the one who's guilty about what I'm accused of. Importance:  0.0006706126636701194\n",
      "  Merkmal 38 : I hate my spouse's way of open a subject. Importance:  0.000670313174379092\n",
      "  Merkmal 22 : I know how my spouse wants to be taken care of when she/he sick. Importance:  0.00044372599149634196\n",
      "  Merkmal 51 : I'm not the one who's wrong about problems at home. Importance:  0.00027705830830830836\n",
      "  Merkmal 49 : I have nothing to do with what I've been accused of. Importance:  0.00025948189308959955\n",
      "  Merkmal 45 : I'd rather stay silent than discuss with my spouse. Importance:  0.00023611373459705114\n",
      "  Merkmal 42 : When I argue with my spouse, ı only go out and I don't say a word. Importance:  0.00020167912623993164\n",
      "  Merkmal 43 : I mostly stay silent to calm the environment a little bit. Importance:  0.00017804775869291998\n",
      "  Merkmal 35 : I can insult my spouse during our discussions. Importance:  5.88968957871397e-05\n",
      "  Merkmal 7 : We are like two strangers who share the same environment at home rather than family. Importance:  0.0\n",
      "  Merkmal 23 : I know my spouse's favorite food. Importance:  0.0\n",
      "  Merkmal 47 : When I discuss with my spouse, I stay silent because I am afraid of not being able to control my anger. Importance:  0.0\n"
     ]
    }
   ],
   "source": [
    "import numpy as np\n",
    "\n",
    "feature_importance_rf = rf_clf.feature_importances_\n",
    "\n",
    "# Erstelle ein Array von Indizes von 1 bis 54\n",
    "indices = np.arange(1, 55)\n",
    "\n",
    "# Sortiere die Indizes basierend auf der Wichtigkeit der Merkmale absteigend\n",
    "sorted_indices = sorted(indices, key=lambda x: feature_importance_rf[x-1], reverse=True)\n",
    "\n",
    "\n",
    "# Zeige die sortierten Merkmale mit ihren Beschreibungen an\n",
    "for i in sorted_indices:\n",
    "    print( \"  Merkmal\", i, \":\", merkmale[i],\"Importance: \", feature_importance_rf[i-1])"
   ]
  },
  {
   "cell_type": "markdown",
   "metadata": {},
   "source": [
    "# Random Forest neu"
   ]
  },
  {
   "cell_type": "markdown",
   "metadata": {},
   "source": [
    "\n",
    "Der Random Forest Klassifikator erreicht eine Genauigkeit (Accuracy) von 97.06%. Dies bedeutet, dass das Modell in etwa 97.06% der Fälle die richtige Vorhersage trifft.\n",
    "\n",
    "Die Precision beträgt 1.0, was darauf hinweist, dass das Modell in den Fällen, in denen es die positive Klasse vorhersagt, immer korrekt ist. Mit anderen Worten, es gibt keine falsch positiven Vorhersagen.\n",
    "\n",
    "Der Recall beträgt 0.95, was bedeutet, dass das Modell in etwa 95% der Fälle die tatsächlich positive Klasse korrekt erkennt. Mit anderen Worten, es verpasst etwa 5% der tatsächlich positiven Fälle.\n",
    "\n",
    "Der F1-Score beträgt 0.974, was eine harmonische Mittelwert der Precision und Recall ist. Ein hoher F1-Score deutet darauf hin, dass das Modell sowohl eine hohe Precision als auch einen hohen Recall erreicht hat, was auf eine gute Balance zwischen Precision und Recall hinweist.\n",
    "\n",
    "Insgesamt scheint der Random Forest Klassifikator sehr gut zu funktionieren, da er eine hohe Genauigkeit und einen hohen F1-Score aufweist, was darauf hindeutet, dass er sowohl präzise als auch robust in der Vorhersage ist."
   ]
  },
  {
   "cell_type": "code",
   "execution_count": 243,
   "metadata": {},
   "outputs": [
    {
     "name": "stdout",
     "output_type": "stream",
     "text": [
      "Accuracy: 0.9705882352941176\n",
      "Precision: 1.0\n",
      "Recall: 0.95\n",
      "F1-Score: 0.9743589743589743\n"
     ]
    }
   ],
   "source": [
    "#  Random forest classifier\n",
    "\n",
    "import pandas as pd\n",
    "from sklearn.ensemble import RandomForestClassifier\n",
    "from sklearn.model_selection import train_test_split\n",
    "from sklearn.metrics import accuracy_score, precision_score, recall_score, f1_score\n",
    "\n",
    "# Daten einlesen\n",
    "file_path = \"data/divorce_data.csv\"\n",
    "df = pd.read_csv(file_path, delimiter=\";\")\n",
    "\n",
    "# Features und Zielvariable auswählen\n",
    "\n",
    "X = df[['Q18', 'Q40', 'Q11', 'Q20', 'Q26', 'Q17', 'Q19', 'Q16', 'Q25', 'Q9']]\n",
    "#X = df[['Q18']]\n",
    "#X = df[['Q30']]\n",
    "#X = df[['Q6']]\n",
    "\n",
    "\n",
    "y = df['Divorce']  # Zielvariable\n",
    "\n",
    "# Daten in Trainings- und Testsets aufteilen\n",
    "X_train, X_test, y_train, y_test = train_test_split(X, y, test_size=0.2, random_state=42)\n",
    "\n",
    "# Random Forest Klassifikator erstellen und trainieren\n",
    "rf_classifier = RandomForestClassifier(n_estimators=100, random_state=42)\n",
    "rf_classifier.fit(X_train, y_train)\n",
    "\n",
    "# Vorhersagen auf dem Testset machen\n",
    "y_pred = rf_classifier.predict(X_test)\n",
    "\n",
    "# Genauigkeit des Modells auswerten\n",
    "accuracy = accuracy_score(y_test, y_pred)\n",
    "print(\"Accuracy:\", accuracy)\n",
    "\n",
    "\n",
    "# Berechnen von Precision, Recall und F1-Score\n",
    "precision = precision_score(y_test, y_pred)\n",
    "recall = recall_score(y_test, y_pred)\n",
    "f1 = f1_score(y_test, y_pred)\n",
    "\n",
    "# Ausgabe der Ergebnisse\n",
    "print(\"Precision:\", precision)\n",
    "print(\"Recall:\", recall)\n",
    "print(\"F1-Score:\", f1)"
   ]
  },
  {
   "cell_type": "markdown",
   "metadata": {},
   "source": [
    "Das Modell wird auch einmal auf den Trainingdaten trainiert:"
   ]
  },
  {
   "cell_type": "code",
   "execution_count": 244,
   "metadata": {},
   "outputs": [
    {
     "name": "stdout",
     "output_type": "stream",
     "text": [
      "Accuracy on training data: 1.0\n"
     ]
    }
   ],
   "source": [
    "# Genauigkeit auf den Trainingsdaten auswerten\n",
    "\n",
    "# Vorhersagen auf dem Trainingsset machen\n",
    "y_pred_train = rf_classifier.predict(X_train)\n",
    "\n",
    "# Genauigkeit des Modells auf den Trainingsdaten auswerten\n",
    "accuracy_train = accuracy_score(y_train, y_pred_train)\n",
    "print(\"Accuracy on training data:\", accuracy_train)\n"
   ]
  },
  {
   "cell_type": "markdown",
   "metadata": {},
   "source": [
    "\n",
    "Die Beobachtung, dass das Modell eine hohe Genauigkeit auf den Trainingsdaten aufweist, könnte darauf hinweisen, dass das Modell die Trainingsdaten quasi auswendig gelernt hat. Dies wird oft als Overfitting bezeichnet, bei dem das Modell die Rauschdaten in den Trainingsdaten statt der zugrunde liegenden Muster und Zusammenhänge lernt. In solchen Fällen kann das Modell Schwierigkeiten haben, auf neuen Daten gut zu generalisieren.\n",
    "\n",
    "Jedoch ist es in diesem Fall interessant festzustellen, dass die Genauigkeit auf den Testdaten ebenfalls hoch ist. Dies deutet darauf hin, dass das Modell trotz der hohen Genauigkeit auf den Trainingsdaten auch auf neuen, nicht gesehenen Daten gut abschneidet. Wenn das Modell sowohl auf den Trainings- als auch auf den Testdaten hohe Genauigkeiten aufweist, deutet dies darauf hin, dass das Modell tatsächlich die zugrunde liegenden Muster und Zusammenhänge in den Daten erfasst hat, anstatt nur die Trainingsdaten auswendig zu lernen."
   ]
  },
  {
   "cell_type": "markdown",
   "metadata": {},
   "source": [
    "# Training mit anderen Classifiern\n",
    "\n",
    "um zu die Leistung verschiedener Classivier auf den Daten zu testen, wird nun noch die Classifizierung mit SVC und eine Logistische Regression durchgeführt. "
   ]
  },
  {
   "cell_type": "markdown",
   "metadata": {},
   "source": [
    "## Support Vector Classifier"
   ]
  },
  {
   "cell_type": "code",
   "execution_count": 245,
   "metadata": {},
   "outputs": [
    {
     "name": "stdout",
     "output_type": "stream",
     "text": [
      "Accuracy: 1.0\n",
      "Precision: 1.0\n",
      "Recall: 1.0\n",
      "F1-Score: 1.0\n"
     ]
    }
   ],
   "source": [
    "import pandas as pd\n",
    "from sklearn.svm import SVC\n",
    "from sklearn.model_selection import train_test_split\n",
    "from sklearn.metrics import accuracy_score, precision_score, recall_score, f1_score\n",
    "\n",
    "# Daten einlesen\n",
    "file_path = \"data/divorce_data.csv\"\n",
    "df = pd.read_csv(file_path, delimiter=\";\")\n",
    "\n",
    "# Features und Zielvariable auswählen\n",
    "X = df[['Q18', 'Q40', 'Q11', 'Q20', 'Q26', 'Q17', 'Q19', 'Q16', 'Q25', 'Q9']]\n",
    "#X = df[['Q18']]\n",
    "#X = df[['Q30']]\n",
    "#X = df[['Q6']]\n",
    "\n",
    "y = df['Divorce']  # Zielvariable\n",
    "\n",
    "# Daten in Trainings- und Testsets aufteilen\n",
    "X_train, X_test, y_train, y_test = train_test_split(X, y, test_size=0.2, random_state=42)\n",
    "\n",
    "# SVC Klassifikator erstellen und trainieren\n",
    "svc_classifier = SVC(kernel='linear', random_state=42)\n",
    "svc_classifier.fit(X_train, y_train)\n",
    "\n",
    "# Vorhersagen auf dem Testset machen\n",
    "y_pred = svc_classifier.predict(X_test)\n",
    "\n",
    "# Genauigkeit des Modells auswerten\n",
    "accuracy = accuracy_score(y_test, y_pred)\n",
    "print(\"Accuracy:\", accuracy)\n",
    "\n",
    "# Berechnen von Precision, Recall und F1-Score\n",
    "precision = precision_score(y_test, y_pred)\n",
    "recall = recall_score(y_test, y_pred)\n",
    "f1 = f1_score(y_test, y_pred)\n",
    "\n",
    "# Ausgabe der Ergebnisse\n",
    "print(\"Precision:\", precision)\n",
    "print(\"Recall:\", recall)\n",
    "print(\"F1-Score:\", f1)\n"
   ]
  },
  {
   "cell_type": "markdown",
   "metadata": {},
   "source": [
    "# Logistic Regression"
   ]
  },
  {
   "cell_type": "code",
   "execution_count": 246,
   "metadata": {},
   "outputs": [
    {
     "name": "stdout",
     "output_type": "stream",
     "text": [
      "Accuracy: 1.0\n",
      "Precision: 1.0\n",
      "Recall: 1.0\n",
      "F1-Score: 1.0\n"
     ]
    }
   ],
   "source": [
    "import pandas as pd\n",
    "from sklearn.linear_model import LogisticRegression\n",
    "from sklearn.model_selection import train_test_split\n",
    "from sklearn.metrics import accuracy_score, precision_score, recall_score, f1_score\n",
    "\n",
    "# Daten einlesen\n",
    "file_path = \"data/divorce_data.csv\"\n",
    "df = pd.read_csv(file_path, delimiter=\";\")\n",
    "\n",
    "# Features und Zielvariable auswählen\n",
    "X = df[['Q18', 'Q40', 'Q11', 'Q20', 'Q26', 'Q17', 'Q19', 'Q16', 'Q25', 'Q9']]\n",
    "#X = df[['Q18']]\n",
    "#X = df[['Q30']]\n",
    "#X = df[['Q6']]\n",
    "\n",
    "y = df['Divorce']  # Zielvariable\n",
    "\n",
    "# Daten in Trainings- und Testsets aufteilen\n",
    "X_train, X_test, y_train, y_test = train_test_split(X, y, test_size=0.2, random_state=42)\n",
    "\n",
    "# Logistisches Regressionsmodell erstellen und trainieren\n",
    "logistic_regression = LogisticRegression(random_state=42)\n",
    "logistic_regression.fit(X_train, y_train)\n",
    "\n",
    "# Vorhersagen auf dem Testset machen\n",
    "y_pred = logistic_regression.predict(X_test)\n",
    "\n",
    "# Genauigkeit des Modells auswerten\n",
    "accuracy = accuracy_score(y_test, y_pred)\n",
    "print(\"Accuracy:\", accuracy)\n",
    "\n",
    "# Berechnen von Precision, Recall und F1-Score\n",
    "precision = precision_score(y_test, y_pred)\n",
    "recall = recall_score(y_test, y_pred)\n",
    "f1 = f1_score(y_test, y_pred)\n",
    "\n",
    "# Ausgabe der Ergebnisse\n",
    "print(\"Precision:\", precision)\n",
    "print(\"Recall:\", recall)\n",
    "print(\"F1-Score:\", f1)\n"
   ]
  },
  {
   "cell_type": "markdown",
   "metadata": {},
   "source": [
    "## Fazit zu den Classifiern \n",
    "\n",
    "\n",
    "SVC und logistische Regression erreichen eine Genauigkeit von 1.0 auf den Testdaten, was bedeutet, dass keine einzige Person falsch klassifiziert wurde. Selbst wenn nur das als wichtigstes Merkmal identifizierte Merkmal, Frage Q18, zur Schulung verwendet wird, erzielen SVC und logistische Regression immer noch eine Genauigkeit von 1.0. Nur bei der Verwendung weniger guter Fragen kann ein Unterschied festgestellt werden. Diese können im Code aktiviert werden, um sie zu testen. Frage Q6, die bereits bei der Korrelationsanalyse negativ aufgefallen ist, liefert ein schlechtes Ergebnis. Die beiden Klassifizierer sind sogar besser als der Random Forest Classifier, was ein Erfolg ist, insbesondere im Vergleich zum Dummy-Klassifizierer, der eine Genauigkeit von etwa 50% erreicht. Allerdings lässt dies wenig Raum für Verbesserungen. Das Hyperparameter-Tuning wird auch für den Random Forest Classifier angewendet, da hier noch etwas Verbesserungspotenzial besteht."
   ]
  },
  {
   "cell_type": "markdown",
   "metadata": {},
   "source": [
    "# dummy "
   ]
  },
  {
   "cell_type": "code",
   "execution_count": 247,
   "metadata": {},
   "outputs": [
    {
     "name": "stdout",
     "output_type": "stream",
     "text": [
      "Genauigkeit des Dummy Classifiers: 0.4117647058823529\n",
      "Precision des Dummy Classifiers: 0.0\n",
      "Recall des Dummy Classifiers: 0.0\n",
      "F1-Score des Dummy Classifiers: 0.0\n"
     ]
    },
    {
     "name": "stderr",
     "output_type": "stream",
     "text": [
      "/Applications/anaconda3/lib/python3.11/site-packages/sklearn/metrics/_classification.py:1344: UndefinedMetricWarning: Precision is ill-defined and being set to 0.0 due to no predicted samples. Use `zero_division` parameter to control this behavior.\n",
      "  _warn_prf(average, modifier, msg_start, len(result))\n"
     ]
    }
   ],
   "source": [
    "from sklearn.dummy import DummyClassifier\n",
    "from sklearn.metrics import accuracy_score, precision_score, recall_score, f1_score\n",
    "\n",
    "# Dummy Classifier erstellen\n",
    "dummy_classifier = DummyClassifier(strategy=\"most_frequent\")  # Dummy Classifier, der die häufigste Klasse vorhersagt\n",
    "\n",
    "# Modell trainieren\n",
    "dummy_classifier.fit(X_train, y_train)\n",
    "\n",
    "# Vorhersagen machen\n",
    "dummy_predictions = dummy_classifier.predict(X_test)\n",
    "\n",
    "# Bewertung des Modells\n",
    "accuracy = accuracy_score(y_test, dummy_predictions)\n",
    "precision = precision_score(y_test, dummy_predictions)\n",
    "recall = recall_score(y_test, dummy_predictions)\n",
    "f1 = f1_score(y_test, dummy_predictions)\n",
    "\n",
    "print(\"Genauigkeit des Dummy Classifiers:\", accuracy)\n",
    "print(\"Precision des Dummy Classifiers:\", precision)\n",
    "print(\"Recall des Dummy Classifiers:\", recall)\n",
    "print(\"F1-Score des Dummy Classifiers:\", f1)\n"
   ]
  },
  {
   "cell_type": "markdown",
   "metadata": {},
   "source": [
    "\n",
    "Da die Daten ungefähr gleichmäßig zwischen \"Scheidung\" und \"Keine Scheidung\" aufgeteilt sind, erzielt der Dummy-Classifier nur eine Genauigkeit von etwa 50%."
   ]
  },
  {
   "cell_type": "markdown",
   "metadata": {},
   "source": [
    "## Hyperparametertuning"
   ]
  },
  {
   "cell_type": "code",
   "execution_count": 248,
   "metadata": {},
   "outputs": [
    {
     "name": "stdout",
     "output_type": "stream",
     "text": [
      "Beste Parameter: {'max_depth': 3, 'min_samples_split': 2, 'n_estimators': 50}\n"
     ]
    }
   ],
   "source": [
    "from sklearn.ensemble import RandomForestClassifier\n",
    "from sklearn.model_selection import GridSearchCV\n",
    "\n",
    "# Definieren des Parameterrasters für das Hyperparametertuning\n",
    "param_grid = {\n",
    "    'n_estimators': [50, 100, 150],\n",
    "    'max_depth': [3, 5, 10],\n",
    "    'min_samples_split': [2, 5, 10],\n",
    "    #'min_samples_leaf': [1, 2, 4],\n",
    "    #'max_features': ['sqrt', 'log2']\n",
    "}\n",
    "# Auskommentiert, dasmit es schneller läuft\n",
    "\n",
    "# Random Forest Klassifikator erstellen\n",
    "rf_classifier = RandomForestClassifier(random_state=0)\n",
    "\n",
    "# Grid-Suche durchführen\n",
    "grid_search = GridSearchCV(estimator=rf_classifier, param_grid=param_grid, cv=5)\n",
    "grid_search.fit(X, y)\n",
    "\n",
    "# Beste Parameter ausgeben\n",
    "best_params = grid_search.best_params_\n",
    "print(\"Beste Parameter:\", best_params)\n"
   ]
  },
  {
   "cell_type": "markdown",
   "metadata": {},
   "source": [
    "# Random Forest mit hyperparametertuning "
   ]
  },
  {
   "cell_type": "code",
   "execution_count": 249,
   "metadata": {},
   "outputs": [
    {
     "name": "stdout",
     "output_type": "stream",
     "text": [
      "Accuracy: 0.9411764705882353\n"
     ]
    }
   ],
   "source": [
    "import pandas as pd\n",
    "from sklearn.ensemble import RandomForestClassifier\n",
    "from sklearn.model_selection import train_test_split\n",
    "from sklearn.metrics import accuracy_score\n",
    "\n",
    "# Daten einlesen\n",
    "file_path = \"data/divorce_data.csv\"\n",
    "df = pd.read_csv(file_path, delimiter=\";\")\n",
    "\n",
    "# Features und Zielvariable auswählen\n",
    "\n",
    "\n",
    "X = df[['Q18', 'Q40', 'Q11', 'Q20', 'Q26', 'Q17', 'Q19', 'Q16', 'Q25', 'Q9']]\n",
    "X = df[['Q30']]\n",
    "\n",
    "\n",
    "y = df['Divorce']  # Zielvariable\n",
    "\n",
    "# Daten in Trainings- und Testsets aufteilen\n",
    "X_train, X_test, y_train, y_test = train_test_split(X, y, test_size=0.2, random_state=42)\n",
    "\n",
    "# Random Forest Klassifikator erstellen und trainieren\n",
    "rf_classifier = RandomForestClassifier(n_estimators=50, max_depth=3, max_features='sqrt', min_samples_leaf=1, min_samples_split=2, random_state=42)\n",
    "rf_classifier.fit(X_train, y_train)\n",
    "\n",
    "# Vorhersagen auf dem Testset machen\n",
    "y_pred = rf_classifier.predict(X_test)\n",
    "\n",
    "# Genauigkeit des Modells auswerten\n",
    "accuracy = accuracy_score(y_test, y_pred)\n",
    "print(\"Accuracy:\", accuracy)"
   ]
  },
  {
   "cell_type": "markdown",
   "metadata": {},
   "source": [
    "\n",
    "Das Hyperparameter-Tuning verbessert leider nicht den Random Forest. Der Grund dafür liegt in der bereits unglaublich guten Genauigkeit, die wenig Spielraum für Verbesserungen lässt. Dies führt dazu, dass sich das Ergebnis des Classifiers nicht ändert, es sei denn, es werden grundlegende Änderungen an den Hyperparametern vorgenommen."
   ]
  },
  {
   "cell_type": "markdown",
   "metadata": {},
   "source": [
    "## Lineare Classifizierung\n",
    "\n",
    "\n",
    "Die guten Ergebnisse der Classifier legen nahe, dass die Fragen gut gestellt sind und es daher leicht ist, zwischen den Zuständen \"getrennt\" und \"vergeben\" zu unterscheiden. Selbst mit einzelnen Features lässt sich das Modell gut trainieren. Da die Fragen auf einer Skala von 0 bis 4 bewertet wurden, stellt sich die Frage, ob eine einfache lineare Klassifizierung durchgeführt werden kann. Dazu sollen die drei bereits häufig betrachteten Features Q18, Q30 und Q6 genauer analysiert werden."
   ]
  },
  {
   "cell_type": "markdown",
   "metadata": {},
   "source": [
    "Die visuelle Darstellung zeigt die Verteilung der Antworten auf Frage Q30 basierend auf dem Beziehungsstatus. Die roten Punkte repräsentieren verheiratete Personen, während die blauen Punkte für getrennt lebende Personen stehen. Jeder Punkt entspricht einer Antwort auf Frage Q30 und liegt auf der Skala von 0 bis 4. Die Position entlang der x-Achse repräsentiert die Reihenfolge der Antworten, während der Wert auf der y-Achse den spezifischen Wert von Q30 für jede Antwort angibt. Die Unterschiede in der Verteilung der Antworten zwischen den beiden Beziehungsstatusgruppen können anhand der Farben der Punkte visuell erkannt werden."
   ]
  },
  {
   "cell_type": "code",
   "execution_count": 250,
   "metadata": {},
   "outputs": [
    {
     "data": {
      "image/png": "[encoded data removed]",
      "text/plain": [
       "<Figure size 640x480 with 1 Axes>"
      ]
     },
     "metadata": {},
     "output_type": "display_data"
    }
   ],
   "source": [
    "import matplotlib.pyplot as plt\n",
    "\n",
    "# Filtern der Daten, um nur die Zeilen zu behalten, bei denen Divorce gleich 1 ist\n",
    "divorce_1_data = df[df['Divorce'] == 1]\n",
    "\n",
    "# Filtern der Daten, um nur die Zeilen zu behalten, bei denen Divorce gleich 0 ist\n",
    "divorce_0_data = df[df['Divorce'] == 0]\n",
    "\n",
    "# Extrahieren der Antworten auf Q18 für diese Daten\n",
    "q18_responses_divorce_1 = divorce_1_data['Q18']\n",
    "q18_responses_divorce_0 = divorce_0_data['Q18']\n",
    "\n",
    "# Frage 18: We don't have time at home as partners.\n",
    "\n",
    "# Erstellen einer Liste von Indizes für die x-Achse (von 0 bis n-1 für n Antworten)\n",
    "x_values_divorce_1 = range(len(q18_responses_divorce_1))\n",
    "x_values_divorce_0 = range(len(q18_responses_divorce_0))\n",
    "\n",
    "# Erstellen des Plots mit Streupunkten\n",
    "plt.scatter(x_values_divorce_1, q18_responses_divorce_1, color='red', label='verheiratet')\n",
    "plt.scatter(x_values_divorce_0, q18_responses_divorce_0, color='blue', label='getrennt')\n",
    "\n",
    "# Beschriftungen der Achsen\n",
    "plt.xlabel('Antworten auf Frage Q18')\n",
    "plt.ylabel('Wert von Q18')\n",
    "plt.title('Verteilung der Antworten auf Frage Q18 nach Divorce')\n",
    "\n",
    "# Hinzufügen einer Legende\n",
    "plt.legend()\n",
    "\n",
    "# Anzeigen des Plots\n",
    "plt.show()\n"
   ]
  },
  {
   "cell_type": "code",
   "execution_count": 251,
   "metadata": {},
   "outputs": [
    {
     "data": {
      "image/png": "[encoded data removed]",
      "text/plain": [
       "<Figure size 640x480 with 1 Axes>"
      ]
     },
     "metadata": {},
     "output_type": "display_data"
    }
   ],
   "source": [
    "import matplotlib.pyplot as plt\n",
    "\n",
    "# Filtern der Daten, um nur die Zeilen zu behalten, bei denen Divorce gleich 1 ist\n",
    "divorce_1_data = df[df['Divorce'] == 1]\n",
    "\n",
    "# Filtern der Daten, um nur die Zeilen zu behalten, bei denen Divorce gleich 0 ist\n",
    "divorce_0_data = df[df['Divorce'] == 0]\n",
    "\n",
    "# Extrahieren der Antworten auf Q30 für diese Daten\n",
    "q30_responses_divorce_1 = divorce_1_data['Q30']\n",
    "q30_responses_divorce_0 = divorce_0_data['Q30']\n",
    "\n",
    "# Frage 30: I know my spouse's friends and their social relationships.\n",
    "\n",
    "# Erstellen einer Liste von Indizes für die x-Achse (von 0 bis n-1 für n Antworten)\n",
    "x_values_divorce_1 = range(len(q30_responses_divorce_1))\n",
    "x_values_divorce_0 = range(len(q30_responses_divorce_0))\n",
    "\n",
    "# Erstellen des Plots mit Streupunkten\n",
    "plt.scatter(x_values_divorce_1, q30_responses_divorce_1, color='red', label='verheiratet')\n",
    "plt.scatter(x_values_divorce_0, q30_responses_divorce_0, color='blue', label='getrennt')\n",
    "\n",
    "# Beschriftungen der Achsen\n",
    "plt.xlabel('Antworten auf Frage Q30')\n",
    "plt.ylabel('Wert von Q30')\n",
    "plt.title('Verteilung der Antworten auf Frage Q30 nach Divorce')\n",
    "\n",
    "# Hinzufügen einer Legende\n",
    "plt.legend()\n",
    "\n",
    "# Anzeigen des Plots\n",
    "plt.show()"
   ]
  },
  {
   "cell_type": "code",
   "execution_count": 252,
   "metadata": {},
   "outputs": [
    {
     "data": {
      "image/png": "[encoded data removed]",
      "text/plain": [
       "<Figure size 640x480 with 1 Axes>"
      ]
     },
     "metadata": {},
     "output_type": "display_data"
    }
   ],
   "source": [
    "import matplotlib.pyplot as plt\n",
    "\n",
    "# Filtern der Daten, um nur die Zeilen zu behalten, bei denen Divorce gleich 1 ist\n",
    "divorce_1_data = df[df['Divorce'] == 1]\n",
    "\n",
    "# Filtern der Daten, um nur die Zeilen zu behalten, bei denen Divorce gleich 0 ist\n",
    "divorce_0_data = df[df['Divorce'] == 0]\n",
    "\n",
    "# Extrahieren der Antworten auf Q6 für diese Daten\n",
    "q6_responses_divorce_1 = divorce_1_data['Q6']\n",
    "q6_responses_divorce_0 = divorce_0_data['Q6']\n",
    "\n",
    "# Frage 6: We're compatible with my spouse about what love should be.\n",
    "\n",
    "# Erstellen einer Liste von Indizes für die x-Achse (von 0 bis n-1 für n Antworten)\n",
    "x_values_divorce_1 = range(len(q6_responses_divorce_1))\n",
    "x_values_divorce_0 = range(len(q6_responses_divorce_0))\n",
    "\n",
    "# Erstellen des Plots mit Streupunkten\n",
    "plt.scatter(x_values_divorce_1, q6_responses_divorce_1, color='red', label='verheiratet')\n",
    "plt.scatter(x_values_divorce_0, q6_responses_divorce_0, color='blue', label='getrennt')\n",
    "\n",
    "# Beschriftungen der Achsen\n",
    "plt.xlabel('Antworten auf Frage Q6')\n",
    "plt.ylabel('Wert von Q6')\n",
    "plt.title('Verteilung der Antworten auf Frage Q6 nach Divorce')\n",
    "\n",
    "# Hinzufügen einer Legende\n",
    "plt.legend()\n",
    "\n",
    "# Anzeigen des Plots\n",
    "plt.show()\n"
   ]
  },
  {
   "cell_type": "markdown",
   "metadata": {},
   "source": [
    "Für die Fragen 18 und 30 ist eine klare Trennung zu erkennen, die stark mit dem Divorce-Label korreliert ist. Bei Frage 6 hingegen ist diese Trennung weniger deutlich erkennbar."
   ]
  },
  {
   "cell_type": "markdown",
   "metadata": {},
   "source": [
    "## Linearer Classifier bei 2.0"
   ]
  },
  {
   "cell_type": "markdown",
   "metadata": {},
   "source": [
    "Nun wird die Zielvariable basierend auf der Bedingung, dass die Antwort größer oder gleich 2 ist, definiert. Anschließend berechnet er die Genauigkeit des Modells, das auf diese spezifische Frage trainiert wurde."
   ]
  },
  {
   "cell_type": "code",
   "execution_count": 253,
   "metadata": {},
   "outputs": [
    {
     "name": "stdout",
     "output_type": "stream",
     "text": [
      "frage 18|Most of our goals are common to my spouse.\n",
      "Genauigkeit des Modells bei Training mit Frage 18: 0.9823529411764705\n",
      "frage 30|I know my spouse's friends and their social relationships.\n",
      "Genauigkeit des Modells bei Training mit Frage 30: 0.9588235294117647\n",
      "frage 6|We don't have time at home as partners.\n",
      "Genauigkeit des Modells bei Training mit Frage 6:  0.6176470588235294\n"
     ]
    }
   ],
   "source": [
    "# Definieren der Zielvariable basierend auf der Bedingung\n",
    "df['Predicted_Divorce'] = (df['Q18'] >= 2).astype(int)\n",
    "\n",
    "# Berechnen der Genauigkeit\n",
    "accuracy = (df['Predicted_Divorce'] == df['Divorce']).mean()\n",
    "print(\"frage 18|Most of our goals are common to my spouse.\")\n",
    "print(\"Genauigkeit des Modells bei Training mit Frage 18:\", accuracy)\n",
    "\n",
    "# Definieren der Zielvariable basierend auf der Bedingung\n",
    "df['Predicted_Divorce'] = (df['Q30'] >= 2).astype(int)\n",
    "\n",
    "# Berechnen der Genauigkeit\n",
    "accuracy = (df['Predicted_Divorce'] == df['Divorce']).mean()\n",
    "print(\"frage 30|I know my spouse's friends and their social relationships.\")\n",
    "print(\"Genauigkeit des Modells bei Training mit Frage 30:\", accuracy)\n",
    "\n",
    "# Definieren der Zielvariable basierend auf der Bedingung\n",
    "df['Predicted_Divorce'] = (df['Q6'] >= 2).astype(int)\n",
    "\n",
    "# Berechnen der Genauigkeit\n",
    "accuracy = (df['Predicted_Divorce'] == df['Divorce']).mean()\n",
    "print(\"frage 6|We don't have time at home as partners.\")\n",
    "print(\"Genauigkeit des Modells bei Training mit Frage 6: \", accuracy)\n",
    "\n",
    "\n",
    "\n",
    "\n",
    "\n",
    "\n"
   ]
  },
  {
   "cell_type": "markdown",
   "metadata": {},
   "source": [
    "Die Modelle, die auf die Fragen 18, 30 und 6 trainiert wurden, erzielen Genauigkeiten von etwa 98.2%, 95.9% bzw. 61.8%. Die lineare Klassifizierung ist relativ erfolgreich, besonders, wenn berechente Genauigkeit des Dummy-Classifiers von etwa 50% betrachtet wird. "
   ]
  },
  {
   "cell_type": "markdown",
   "metadata": {},
   "source": [
    "## Linearer Classifier bei 1.0\n",
    "\n",
    "Testweise soll die Tennung bei 1.0 statt 2.0 passieren. "
   ]
  },
  {
   "cell_type": "code",
   "execution_count": 254,
   "metadata": {},
   "outputs": [
    {
     "name": "stdout",
     "output_type": "stream",
     "text": [
      "frage 18|Most of our goals are common to my spouse.\n",
      "Genauigkeit des Modells bei Training mit Frage 18: 0.9470588235294117\n",
      "frage 30|I know my spouse's friends and their social relationships.\n",
      "Genauigkeit des Modells bei Training mit Frage 30: 0.8941176470588236\n",
      "frage 6|We don't have time at home as partners.\n",
      "Genauigkeit des Modells bei Training mit Frage 6:  0.7411764705882353\n"
     ]
    }
   ],
   "source": [
    "# Definieren der Zielvariable basierend auf der Bedingung\n",
    "df['Predicted_Divorce'] = (df['Q18'] >= 1).astype(int)\n",
    "\n",
    "# Berechnen der Genauigkeit\n",
    "accuracy = (df['Predicted_Divorce'] == df['Divorce']).mean()\n",
    "print(\"frage 18|Most of our goals are common to my spouse.\")\n",
    "print(\"Genauigkeit des Modells bei Training mit Frage 18:\", accuracy)\n",
    "\n",
    "# Definieren der Zielvariable basierend auf der Bedingung\n",
    "df['Predicted_Divorce'] = (df['Q30'] >= 1).astype(int)\n",
    "\n",
    "# Berechnen der Genauigkeit\n",
    "accuracy = (df['Predicted_Divorce'] == df['Divorce']).mean()\n",
    "print(\"frage 30|I know my spouse's friends and their social relationships.\")\n",
    "print(\"Genauigkeit des Modells bei Training mit Frage 30:\", accuracy)\n",
    "\n",
    "# Definieren der Zielvariable basierend auf der Bedingung\n",
    "df['Predicted_Divorce'] = (df['Q6'] >= 1).astype(int)\n",
    "\n",
    "# Berechnen der Genauigkeit\n",
    "accuracy = (df['Predicted_Divorce'] == df['Divorce']).mean()\n",
    "print(\"frage 6|We don't have time at home as partners.\")\n",
    "print(\"Genauigkeit des Modells bei Training mit Frage 6: \", accuracy)"
   ]
  },
  {
   "cell_type": "markdown",
   "metadata": {},
   "source": [
    "Während sich die Genauigkeit bei den Fragen 18 und 30 verschlechtert, wenn die Trennung bei 1.0 gesetzt wird, verbessert sich diese detlich bei Frage 6. "
   ]
  },
  {
   "cell_type": "markdown",
   "metadata": {},
   "source": [
    "# Fazit\n",
    "Viele der Fragen des Interviews wurden offensichtilich sehr gut gestellt, so dass sich leicht vorhersagen lässt, ob es zu Trennung kommt. Zusätzlich ist die Anzahl der Daten relativ gering. Dies macht es schwierig die verschiedenen Classifier miteinander zu vergleichen, da die Unterschiede wegen der hohen Leistung sehr gering sind. Hyperparametertuning und die Verwendung von komplexeren Modellen zur Vorhersage sind demnach obsolet. Allerdings ermöglicht es die genaue Betrachtung einzelner Fragen. Besonders interessant ist, dass mit einer einfachen linearen Klassifizierung bereits ein gutes Ergebnis erreicht werden kann. Es hat sich herausgestellt, dass bei einem wenig komplexen Sachverhalt auch einfachere Klassifizierungsmethoden hilfreich sein können. "
   ]
  }
 ],
 "metadata": {
  "kernelspec": {
   "display_name": "base",
   "language": "python",
   "name": "python3"
  },
  "language_info": {
   "codemirror_mode": {
    "name": "ipython",
    "version": 3
   },
   "file_extension": ".py",
   "mimetype": "text/x-python",
   "name": "python",
   "nbconvert_exporter": "python",
   "pygments_lexer": "ipython3",
   "version": "3.11.7"
  }
 },
 "nbformat": 4,
 "nbformat_minor": 2
}
